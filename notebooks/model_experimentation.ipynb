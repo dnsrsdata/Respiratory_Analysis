{
 "cells": [
  {
   "cell_type": "markdown",
   "metadata": {},
   "source": [
    "Criar um classificador que mede a probabilidade do paciente ter certa doença respiratória, baseado nos sintomas apresentados. \n"
   ]
  }
 ],
 "metadata": {
  "language_info": {
   "name": "python"
  }
 },
 "nbformat": 4,
 "nbformat_minor": 2
}
