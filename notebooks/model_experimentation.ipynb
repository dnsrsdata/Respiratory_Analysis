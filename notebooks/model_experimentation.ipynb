{
 "cells": [
  {
   "cell_type": "markdown",
   "metadata": {},
   "source": [
    "# Probabilidade de infecção por agente infeccioso\n",
    "Como vimos durante a análise exploratória, cerca de 54% dos casos de SRAGs no \n",
    "Brasil não possuem uma conclusão sobre o agente infeccioso. Por isso, vamos\n",
    "treinar um modelo de classificação para tentar prever qual o agente infeccioso\n",
    "de um caso de SRAG."
   ]
  },
  {
   "cell_type": "code",
   "execution_count": 1,
   "metadata": {},
   "outputs": [],
   "source": [
    "import re\n",
    "import pandas as pd\n",
    "from ydata_profiling import ProfileReport"
   ]
  },
  {
   "cell_type": "code",
   "execution_count": 2,
   "metadata": {},
   "outputs": [
    {
     "name": "stderr",
     "output_type": "stream",
     "text": [
      "/tmp/ipykernel_12636/60331149.py:2: DtypeWarning: Columns (15,53,63,91,93,143) have mixed types. Specify dtype option on import or set low_memory=False.\n",
      "  data = pd.read_csv(\"../data/raw/INFLUD23-16-10-2023.csv\", sep=\";\")\n"
     ]
    }
   ],
   "source": [
    "# Importando os dados\n",
    "data = pd.read_csv(\"../data/raw/INFLUD23-16-10-2023.csv\", sep=\";\")"
   ]
  },
  {
   "cell_type": "markdown",
   "metadata": {},
   "source": [
    "Nem todas as colunas disponíveis no dataset serão utilizadas para a \n",
    "classificação. Após avaliação inicial, as seguintes colunas foram\n",
    "selecionadas para a classificação: DT_SIN_PRI, SEM_PRI, SG_UF_NOT, ESTRANG, \n",
    "NU_IDADE_N, POV_CT, SG_UF, CS_ZONA, OUT_ANIM, FEBRE, TOSSE, GARGANTA, DISPNEIA, \n",
    "DESC_RESP, SATURACAO, DIARREIA, VOMITO, DOR_ABD, FADIGA, PERD_OLF, PERD_PALA, \n",
    "OUTRO_SIN, OUTRO_DES, VACINA, DOSE_2REF, CLASSI_FIN, CLASSI_OUT.\n",
    "\n",
    "Primeiro, temos a data dos primeiros sintomas (DT_SIN_PRI) e a semana de\n",
    "primeiros sintomas (SEM_PRI). Tais colunas foram selecionadas por certos agentes\n",
    "infecciosos possuirem sazonalidade, como é o caso do vírus influenza. As \n",
    "variáveis de idade (NU_IDADE_N), estado (SG_UF), estrangeiro (ESTRANG) e zona \n",
    "(CS_ZONA) foram selecionadas por serem variáveis demográficas que podem \n",
    "influenciar na probabilidade de infecção. Outra que pode influenciar é se o \n",
    "paciente teve contato com certos animais (OUT_ANIM). As variáveis de sintomas \n",
    "(FEBRE, TOSSE, GARGANTA, DISPNEIA, DESC_RESP, SATURACAO, DIARREIA, VOMITO, \n",
    "DOR_ABD, FADIGA, PERD_OLF, PERD_PALA, OUTRO_SIN, OUTRO_DES) foram selecionadas \n",
    "por serem sintomas comuns de SRAGs. Por último, as variáveis de vacinação \n",
    "(VACINA, DOSE_2REF) foram selecionadas por serem variáveis que revelam se o \n",
    "paciente foi vacinado contra certos agentes infecciosos. \n",
    "\n",
    "As variáveis de classificação (CLASSI_FIN, CLASSI_OUT) foram selecionadas por\n",
    "serem as variáveis que queremos prever. A variável CLASSI_FIN é a classificação\n",
    "final do caso, enquanto CLASSI_OUT é um complemento. Ambas serão unidas em uma\n",
    "única variável, chamada CLASSI, que será a variável alvo do modelo.\n",
    "\n"
   ]
  },
  {
   "cell_type": "code",
   "execution_count": 3,
   "metadata": {},
   "outputs": [],
   "source": [
    "# Criando lista com as colunas selecionadas\n",
    "colunas_selecionadas = [\"DT_SIN_PRI\", \"SEM_PRI\", \"ESTRANG\", \n",
    "\"NU_IDADE_N\", \"SG_UF\", \"CS_ZONA\", \"OUT_ANIM\", \"FEBRE\", \"TOSSE\", \n",
    "\"GARGANTA\", \"DISPNEIA\", \"DESC_RESP\", \"SATURACAO\", \"DIARREIA\", \"VOMITO\", \n",
    "\"DOR_ABD\", \"FADIGA\", \"PERD_OLFT\", \"PERD_PALA\", \"OUTRO_SIN\", \"OUTRO_DES\", \n",
    "\"VACINA\", \"VACINA_COV\", \"DOSE_2REF\", \"CLASSI_FIN\", \"CLASSI_OUT\"]"
   ]
  },
  {
   "cell_type": "code",
   "execution_count": 4,
   "metadata": {},
   "outputs": [],
   "source": [
    "# Buscando as colunas selecionadas\n",
    "data = data[colunas_selecionadas]"
   ]
  },
  {
   "cell_type": "code",
   "execution_count": 5,
   "metadata": {},
   "outputs": [
    {
     "data": {
      "text/html": [
       "<div>\n",
       "<style scoped>\n",
       "    .dataframe tbody tr th:only-of-type {\n",
       "        vertical-align: middle;\n",
       "    }\n",
       "\n",
       "    .dataframe tbody tr th {\n",
       "        vertical-align: top;\n",
       "    }\n",
       "\n",
       "    .dataframe thead th {\n",
       "        text-align: right;\n",
       "    }\n",
       "</style>\n",
       "<table border=\"1\" class=\"dataframe\">\n",
       "  <thead>\n",
       "    <tr style=\"text-align: right;\">\n",
       "      <th></th>\n",
       "      <th>DT_SIN_PRI</th>\n",
       "      <th>SEM_PRI</th>\n",
       "      <th>ESTRANG</th>\n",
       "      <th>NU_IDADE_N</th>\n",
       "      <th>SG_UF</th>\n",
       "      <th>CS_ZONA</th>\n",
       "      <th>OUT_ANIM</th>\n",
       "      <th>FEBRE</th>\n",
       "      <th>TOSSE</th>\n",
       "      <th>GARGANTA</th>\n",
       "      <th>...</th>\n",
       "      <th>FADIGA</th>\n",
       "      <th>PERD_OLFT</th>\n",
       "      <th>PERD_PALA</th>\n",
       "      <th>OUTRO_SIN</th>\n",
       "      <th>OUTRO_DES</th>\n",
       "      <th>VACINA</th>\n",
       "      <th>VACINA_COV</th>\n",
       "      <th>DOSE_2REF</th>\n",
       "      <th>CLASSI_FIN</th>\n",
       "      <th>CLASSI_OUT</th>\n",
       "    </tr>\n",
       "  </thead>\n",
       "  <tbody>\n",
       "    <tr>\n",
       "      <th>0</th>\n",
       "      <td>17/01/2023</td>\n",
       "      <td>3</td>\n",
       "      <td>2.0</td>\n",
       "      <td>75</td>\n",
       "      <td>MG</td>\n",
       "      <td>1.0</td>\n",
       "      <td>NaN</td>\n",
       "      <td>1.0</td>\n",
       "      <td>1.0</td>\n",
       "      <td>2.0</td>\n",
       "      <td>...</td>\n",
       "      <td>1.0</td>\n",
       "      <td>2.0</td>\n",
       "      <td>2.0</td>\n",
       "      <td>2.0</td>\n",
       "      <td>NaN</td>\n",
       "      <td>1.0</td>\n",
       "      <td>1.0</td>\n",
       "      <td>11/04/2022</td>\n",
       "      <td>4.0</td>\n",
       "      <td>NaN</td>\n",
       "    </tr>\n",
       "    <tr>\n",
       "      <th>1</th>\n",
       "      <td>01/01/2023</td>\n",
       "      <td>1</td>\n",
       "      <td>2.0</td>\n",
       "      <td>67</td>\n",
       "      <td>RJ</td>\n",
       "      <td>1.0</td>\n",
       "      <td>NaN</td>\n",
       "      <td>1.0</td>\n",
       "      <td>9.0</td>\n",
       "      <td>9.0</td>\n",
       "      <td>...</td>\n",
       "      <td>9.0</td>\n",
       "      <td>9.0</td>\n",
       "      <td>9.0</td>\n",
       "      <td>9.0</td>\n",
       "      <td>NaN</td>\n",
       "      <td>9.0</td>\n",
       "      <td>1.0</td>\n",
       "      <td>10/05/2022</td>\n",
       "      <td>4.0</td>\n",
       "      <td>NaN</td>\n",
       "    </tr>\n",
       "    <tr>\n",
       "      <th>2</th>\n",
       "      <td>05/01/2023</td>\n",
       "      <td>1</td>\n",
       "      <td>NaN</td>\n",
       "      <td>72</td>\n",
       "      <td>SP</td>\n",
       "      <td>1.0</td>\n",
       "      <td>NaN</td>\n",
       "      <td>2.0</td>\n",
       "      <td>1.0</td>\n",
       "      <td>2.0</td>\n",
       "      <td>...</td>\n",
       "      <td>2.0</td>\n",
       "      <td>2.0</td>\n",
       "      <td>2.0</td>\n",
       "      <td>2.0</td>\n",
       "      <td>NaN</td>\n",
       "      <td>NaN</td>\n",
       "      <td>1.0</td>\n",
       "      <td>19/04/2022</td>\n",
       "      <td>5.0</td>\n",
       "      <td>NaN</td>\n",
       "    </tr>\n",
       "    <tr>\n",
       "      <th>3</th>\n",
       "      <td>18/01/2023</td>\n",
       "      <td>3</td>\n",
       "      <td>2.0</td>\n",
       "      <td>46</td>\n",
       "      <td>SP</td>\n",
       "      <td>1.0</td>\n",
       "      <td>NaN</td>\n",
       "      <td>1.0</td>\n",
       "      <td>2.0</td>\n",
       "      <td>NaN</td>\n",
       "      <td>...</td>\n",
       "      <td>2.0</td>\n",
       "      <td>2.0</td>\n",
       "      <td>2.0</td>\n",
       "      <td>1.0</td>\n",
       "      <td>FRAQUEZA,MAL ESTAR,MIALGIA</td>\n",
       "      <td>2.0</td>\n",
       "      <td>1.0</td>\n",
       "      <td>NaN</td>\n",
       "      <td>4.0</td>\n",
       "      <td>NaN</td>\n",
       "    </tr>\n",
       "    <tr>\n",
       "      <th>4</th>\n",
       "      <td>03/02/2023</td>\n",
       "      <td>5</td>\n",
       "      <td>2.0</td>\n",
       "      <td>71</td>\n",
       "      <td>SP</td>\n",
       "      <td>NaN</td>\n",
       "      <td>NaN</td>\n",
       "      <td>NaN</td>\n",
       "      <td>1.0</td>\n",
       "      <td>2.0</td>\n",
       "      <td>...</td>\n",
       "      <td>2.0</td>\n",
       "      <td>2.0</td>\n",
       "      <td>2.0</td>\n",
       "      <td>NaN</td>\n",
       "      <td>NaN</td>\n",
       "      <td>1.0</td>\n",
       "      <td>1.0</td>\n",
       "      <td>25/05/2022</td>\n",
       "      <td>4.0</td>\n",
       "      <td>NaN</td>\n",
       "    </tr>\n",
       "  </tbody>\n",
       "</table>\n",
       "<p>5 rows × 26 columns</p>\n",
       "</div>"
      ],
      "text/plain": [
       "   DT_SIN_PRI  SEM_PRI  ESTRANG  NU_IDADE_N SG_UF  CS_ZONA OUT_ANIM  FEBRE  \\\n",
       "0  17/01/2023        3      2.0          75    MG      1.0      NaN    1.0   \n",
       "1  01/01/2023        1      2.0          67    RJ      1.0      NaN    1.0   \n",
       "2  05/01/2023        1      NaN          72    SP      1.0      NaN    2.0   \n",
       "3  18/01/2023        3      2.0          46    SP      1.0      NaN    1.0   \n",
       "4  03/02/2023        5      2.0          71    SP      NaN      NaN    NaN   \n",
       "\n",
       "   TOSSE  GARGANTA  ...  FADIGA  PERD_OLFT  PERD_PALA  OUTRO_SIN  \\\n",
       "0    1.0       2.0  ...     1.0        2.0        2.0        2.0   \n",
       "1    9.0       9.0  ...     9.0        9.0        9.0        9.0   \n",
       "2    1.0       2.0  ...     2.0        2.0        2.0        2.0   \n",
       "3    2.0       NaN  ...     2.0        2.0        2.0        1.0   \n",
       "4    1.0       2.0  ...     2.0        2.0        2.0        NaN   \n",
       "\n",
       "                    OUTRO_DES  VACINA  VACINA_COV   DOSE_2REF  CLASSI_FIN  \\\n",
       "0                         NaN     1.0         1.0  11/04/2022         4.0   \n",
       "1                         NaN     9.0         1.0  10/05/2022         4.0   \n",
       "2                         NaN     NaN         1.0  19/04/2022         5.0   \n",
       "3  FRAQUEZA,MAL ESTAR,MIALGIA     2.0         1.0         NaN         4.0   \n",
       "4                         NaN     1.0         1.0  25/05/2022         4.0   \n",
       "\n",
       "   CLASSI_OUT  \n",
       "0         NaN  \n",
       "1         NaN  \n",
       "2         NaN  \n",
       "3         NaN  \n",
       "4         NaN  \n",
       "\n",
       "[5 rows x 26 columns]"
      ]
     },
     "execution_count": 5,
     "metadata": {},
     "output_type": "execute_result"
    }
   ],
   "source": [
    "# Verificando os dados\n",
    "data.head()"
   ]
  },
  {
   "cell_type": "code",
   "execution_count": 6,
   "metadata": {},
   "outputs": [
    {
     "data": {
      "text/plain": [
       "(226763, 26)"
      ]
     },
     "execution_count": 6,
     "metadata": {},
     "output_type": "execute_result"
    }
   ],
   "source": [
    "# Verificando as dimensões do dataset\n",
    "data.shape"
   ]
  },
  {
   "cell_type": "markdown",
   "metadata": {},
   "source": [
    "Vamos usar o Pandas Profilling para gerar um report sobre os dados e assim decidir qual caminho seguir."
   ]
  },
  {
   "cell_type": "code",
   "execution_count": 7,
   "metadata": {},
   "outputs": [],
   "source": [
    "# Gerando o report\n",
    "#profile = ProfileReport(data, title=\"Pandas Profiling Report\")\n",
    "#profile.to_file(\"../images/reports/INFLUD23-16-10-2023.html\")"
   ]
  },
  {
   "cell_type": "markdown",
   "metadata": {},
   "source": [
    "Com base no relatório, as seguintes modificações serão feitas:\n",
    "- Selecionar apenas os registros com o agente infeccioso definido;\n",
    "- Alterar o tipo das colunas DT_SIN_PRI e DOSE_2REF para datetime;\n",
    "- Deletar os registros negativos da coluna NU_IDADE_N (Não existe idade negativa);\n",
    "- Por ter 99.7% de missing, a coluna OUT_ANIM será deletada;\n",
    "- Expandir a coluna OUTRO_DES para gerar novas colunas com sintomas;\n",
    "- Unir a coluna CLASSI_OUT com a coluna CLASSI_FIN;\n",
    "- Alterar todos os valores numéricos das colunas para o seu real valor;\n",
    "\n",
    "Insights gerais:\n",
    "- 28% dos dados estão ausentes.\n",
    "- 0.4% dos dados são duplicados.\n",
    "- Temos um problema de classificação com multiplos rótulos."
   ]
  },
  {
   "cell_type": "markdown",
   "metadata": {},
   "source": [
    "## Aplicando as correções no dataset"
   ]
  },
  {
   "cell_type": "markdown",
   "metadata": {},
   "source": [
    "### Selecionando apenas os registros com o agente infeccioso definido"
   ]
  },
  {
   "cell_type": "code",
   "execution_count": 8,
   "metadata": {},
   "outputs": [],
   "source": [
    "# Selecionando apenas os casos identificados\n",
    "data = data.query(\"CLASSI_FIN != 4.0\")\n",
    "\n",
    "# Dropando os registros com valores nulos no target\n",
    "data = data.dropna(subset=[\"CLASSI_FIN\"])"
   ]
  },
  {
   "cell_type": "markdown",
   "metadata": {},
   "source": [
    "### Alterando o tipo das colunas DT_SIN_PRI e DOSE_2REF para datetime"
   ]
  },
  {
   "cell_type": "code",
   "execution_count": 9,
   "metadata": {},
   "outputs": [],
   "source": [
    "# Alterando o tipo dos dados\n",
    "data[\"DT_SIN_PRI\"] = pd.to_datetime(data[\"DT_SIN_PRI\"], format=\"%d/%m/%Y\")\n",
    "data[\"DOSE_2REF\"] = pd.to_datetime(data[\"DOSE_2REF\"], format=\"%d/%m/%Y\")"
   ]
  },
  {
   "cell_type": "markdown",
   "metadata": {},
   "source": [
    "### Deletar os registros negativos da coluna NU_IDADE_N (Não existe idade negativa)"
   ]
  },
  {
   "cell_type": "code",
   "execution_count": 10,
   "metadata": {},
   "outputs": [],
   "source": [
    "# Buscando apenas os registros com idade maior ou igual a zero\n",
    "data = data.query(\"NU_IDADE_N >= 0\")"
   ]
  },
  {
   "cell_type": "markdown",
   "metadata": {},
   "source": [
    "### Por ter 99.7% de missing, a coluna OUT_ANIM será deletada"
   ]
  },
  {
   "cell_type": "code",
   "execution_count": 11,
   "metadata": {},
   "outputs": [],
   "source": [
    "# Dropando a coluna\n",
    "data = data.drop(\"OUT_ANIM\", axis = 1)"
   ]
  },
  {
   "cell_type": "markdown",
   "metadata": {},
   "source": [
    "### Expandir a coluna OUTRO_DES para gerar novas colunas com sintomas"
   ]
  },
  {
   "cell_type": "code",
   "execution_count": 12,
   "metadata": {},
   "outputs": [],
   "source": [
    "# Criando uma bag com os sintomas\n",
    "lista_sintomas_inicial = []\n",
    "\n",
    "# Criando um loop para unir todos os sintomas\n",
    "for lista_sintomas in data.OUTRO_DES.str.split(\",\").dropna():\n",
    "    lista_sintomas_inicial.extend(lista_sintomas)\n",
    "    \n",
    "# Removendo os espaços em branco\n",
    "lista_sintomas_inicial = [sintoma.strip() for sintoma in lista_sintomas_inicial]\n",
    "\n",
    "# Removendo palavras duplicadas\n",
    "lista_sintomas = list(set(lista_sintomas_inicial))\n",
    "\n",
    "# Removendo caracteres especiais\n",
    "lista_sintomas = [re.sub(\"[^A-Za-z0-9]+\", \" \", sintoma) for sintoma in lista_sintomas]\n",
    "\n",
    "# Separando as palavras que possuem a letra 'E'\n",
    "lista_sintomas = [sintoma.split(\" E \") for sintoma in lista_sintomas]\n",
    "\n",
    "# Criando uma lista com todos os sintomas\n",
    "lista_sintomas_final = []\n",
    "\n",
    "# Criando um loop para unir todos os sintomas\n",
    "for lista_sintomas in lista_sintomas:\n",
    "    lista_sintomas_final.extend(lista_sintomas)\n",
    "    \n",
    "# Removendo palavras duplicadas\n",
    "lista_sintomas_final = list(set(lista_sintomas_final))"
   ]
  },
  {
   "cell_type": "code",
   "execution_count": 13,
   "metadata": {},
   "outputs": [],
   "source": [
    "## Criando um vetor com os sintomas\n",
    "#for sintoma in lista_sintomas_final:\n",
    "#    data[sintoma] = data[\"OUTRO_DES\"].str.contains(sintoma, na=False)\n",
    "\n",
    "# Dropando a coluna por enquanto\n",
    "data = data.drop(\"OUTRO_DES\", axis = 1)"
   ]
  },
  {
   "cell_type": "markdown",
   "metadata": {},
   "source": [
    "### Unir a coluna CLASSI_OUT com a coluna CLASSI_FIN"
   ]
  },
  {
   "cell_type": "code",
   "execution_count": 14,
   "metadata": {},
   "outputs": [],
   "source": [
    "# Alterando os valores numéricos para os nomes das categorias\n",
    "dict_novas_cat = {1.0:\"Influenza\",\n",
    "                  2.0:\"Outro vírus\",\n",
    "                  3.0:3.0,\n",
    "                  5.0:\"Covid-19\"}\n",
    "\n",
    "# Aplicando a mudança\n",
    "data[\"CLASSI_FIN\"] = data[\"CLASSI_FIN\"].map(dict_novas_cat)\n",
    "\n",
    "# Buscando as classes complementares\n",
    "data.loc[data[\"CLASSI_FIN\"] == 3, \"CLASSI_FIN\"] = data.loc[data[\"CLASSI_FIN\"] == 3, \"CLASSI_OUT\"]\n",
    "\n",
    "# Dropando a coluna CLASSI_OUT\n",
    "data = data.drop(\"CLASSI_OUT\", axis = 1)"
   ]
  },
  {
   "cell_type": "markdown",
   "metadata": {},
   "source": [
    "### Alterar todos os valores numéricos das colunas para o seu real valor;"
   ]
  },
  {
   "cell_type": "code",
   "execution_count": 15,
   "metadata": {},
   "outputs": [],
   "source": [
    "# Criando as funções\n",
    "func_estrangeiro = lambda num: \"Sim\" if num == 1 else \"Não\"\n",
    "func_zona = lambda num: \"Urbana\" if num == 1 else (\"Rural\" if num == 2 else (\"Periurbana\" if num == 3 else \"Ignorado\"))\n",
    "func_sintoma_and_vacina = lambda num: \"Sim\" if num == 1 else (\"Não\" if num == 2 else \"Ignorado\")\n",
    "\n",
    "# Aplicando as alterações\n",
    "data[\"ESTRANG\"] = data[\"ESTRANG\"].apply(func_estrangeiro)\n",
    "data[\"CS_ZONA\"] = data[\"CS_ZONA\"].apply(func_zona)\n",
    "\n",
    "# Criando uma lista com os sintomas\n",
    "sintomas = [\"FEBRE\", \"TOSSE\", \"GARGANTA\", \"DISPNEIA\", \"DESC_RESP\", \"SATURACAO\", \n",
    "            \"DIARREIA\", \"VOMITO\", \"DOR_ABD\", \"FADIGA\", \"PERD_OLFT\", \n",
    "            \"PERD_PALA\", \"OUTRO_SIN\"]\n",
    "\n",
    "# Aplicando as alterações\n",
    "for sintoma in sintomas:\n",
    "    data[sintoma] = data[sintoma].apply(func_sintoma_and_vacina)\n",
    "    \n",
    "# Criando uma lista com as vacinas\n",
    "vacinas = [\"VACINA\", \"VACINA_COV\"]\n",
    "for vacina in vacinas:\n",
    "    data[vacina] = data[vacina].apply(func_sintoma_and_vacina)\n"
   ]
  },
  {
   "cell_type": "markdown",
   "metadata": {},
   "source": [
    "## Engenharia de Features\n",
    "\n",
    "Aqui, irei criar as seguintes features:\n",
    "- Diferença entre a data dos primeiros sintomas e a data de reforço para covid;\n",
    "- Verificar de qual região é o estado do paciente;\n",
    "- Se ele apresenta multiplos sintomas;\n"
   ]
  },
  {
   "cell_type": "code",
   "execution_count": 17,
   "metadata": {},
   "outputs": [],
   "source": [
    "# Calculando a diferença de dias entre a data de vacinação da covid e a data de sintomas\n",
    "data['DIFERENCA_DIAS'] = (data['DT_SIN_PRI'] - data['DOSE_2REF']).dt.days"
   ]
  },
  {
   "cell_type": "code",
   "execution_count": 18,
   "metadata": {},
   "outputs": [],
   "source": [
    "# Criando uma lista com as UF de cada região\n",
    "regiao_sul = [\"PR\", \"SC\", \"RS\"]\n",
    "regiao_sudeste = [\"SP\", \"RJ\", \"MG\", \"ES\"]\n",
    "regiao_centro_oeste = [\"MS\", \"MT\", \"GO\", \"DF\"]\n",
    "regiao_norte = [\"RO\", \"AC\", \"AM\", \"RR\", \"PA\", \"AP\", \"TO\"]\n",
    "\n",
    "# Criando uma função para identificar a região\n",
    "func_regiao = lambda uf: \"Sul\" if uf in regiao_sul else(\"Sudeste\" if uf in regiao_sudeste else(\"Centro-Oeste\" if uf in regiao_centro_oeste else(\"Norte\" if uf in regiao_norte else \"Nordeste\")))\n",
    "data[\"REGIAO\"] = data[\"SG_UF\"].apply(func_regiao)"
   ]
  },
  {
   "cell_type": "code",
   "execution_count": 20,
   "metadata": {},
   "outputs": [],
   "source": [
    "# Contando a quantidade de sintomas que o paciente apresentou\n",
    "data[\"MAIS_DE_UM_SINTOMA\"] = data[sintomas].apply(lambda x: x.str.contains(\"Sim\").sum(), axis=1)"
   ]
  },
  {
   "cell_type": "markdown",
   "metadata": {},
   "source": [
    "## Realizando experimentos"
   ]
  },
  {
   "cell_type": "code",
   "execution_count": null,
   "metadata": {},
   "outputs": [],
   "source": []
  }
 ],
 "metadata": {
  "kernelspec": {
   "display_name": "venv",
   "language": "python",
   "name": "python3"
  },
  "language_info": {
   "codemirror_mode": {
    "name": "ipython",
    "version": 3
   },
   "file_extension": ".py",
   "mimetype": "text/x-python",
   "name": "python",
   "nbconvert_exporter": "python",
   "pygments_lexer": "ipython3",
   "version": "3.10.12"
  }
 },
 "nbformat": 4,
 "nbformat_minor": 2
}
