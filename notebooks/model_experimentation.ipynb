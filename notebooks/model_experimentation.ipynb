{
 "cells": [
  {
   "cell_type": "markdown",
   "metadata": {},
   "source": [
    "# Probabilidade de infecção por agente infeccioso\n",
    "Como vimos durante a análise exploratória, cerca de 54% dos casos de SRAGs no \n",
    "Brasil não possuem uma conclusão sobre o agente infeccioso. Por isso, vamos\n",
    "treinar um modelo de classificação para tentar prever qual o agente infeccioso\n",
    "de um caso de SRAG."
   ]
  },
  {
   "cell_type": "code",
   "execution_count": 56,
   "metadata": {},
   "outputs": [],
   "source": [
    "import re\n",
    "import time\n",
    "import mlflow\n",
    "import optuna\n",
    "import joblib\n",
    "import numpy as np\n",
    "import pandas as pd\n",
    "import ml_insights as mli\n",
    "from pywaffle import Waffle\n",
    "import matplotlib.pyplot as plt\n",
    "from ydata_profiling import ProfileReport\n",
    "\n",
    "# Preprocessing\n",
    "import category_encoders as ce\n",
    "from sklearn.pipeline import Pipeline\n",
    "from sklearn.impute import SimpleImputer\n",
    "from sklearn.compose import ColumnTransformer\n",
    "from sklearn.model_selection import train_test_split, cross_val_score, StratifiedKFold\n",
    "from sklearn.metrics import log_loss, f1_score, confusion_matrix, recall_score, precision_score, ConfusionMatrixDisplay\n",
    "from sklearn.preprocessing import OneHotEncoder, StandardScaler, PolynomialFeatures, PowerTransformer\n",
    "\n",
    "# Models\n",
    "from xgboost import XGBClassifier\n",
    "from lightgbm import LGBMClassifier\n",
    "from sklearn.linear_model import LogisticRegression\n",
    "from sklearn.ensemble import RandomForestClassifier"
   ]
  },
  {
   "cell_type": "code",
   "execution_count": 2,
   "metadata": {},
   "outputs": [
    {
     "name": "stderr",
     "output_type": "stream",
     "text": [
      "/tmp/ipykernel_9882/60331149.py:2: DtypeWarning: Columns (15,53,63,91,93,143) have mixed types. Specify dtype option on import or set low_memory=False.\n",
      "  data = pd.read_csv(\"../data/raw/INFLUD23-16-10-2023.csv\", sep=\";\")\n"
     ]
    }
   ],
   "source": [
    "# Importando os dados\n",
    "data = pd.read_csv(\"../data/raw/INFLUD23-16-10-2023.csv\", sep=\";\")"
   ]
  },
  {
   "cell_type": "markdown",
   "metadata": {},
   "source": [
    "Nem todas as colunas disponíveis no dataset serão utilizadas para a \n",
    "classificação. Após avaliação inicial, as seguintes colunas foram\n",
    "selecionadas para a classificação: DT_SIN_PRI, SEM_NOT, SEM_PRI, SG_UF_NOT, \n",
    "ESTRANG, NU_IDADE_N, POV_CT, SG_UF, CS_ZONA, OUT_ANIM, FEBRE, TOSSE, GARGANTA, \n",
    "DISPNEIA, DESC_RESP, SATURACAO, DIARREIA, VOMITO, DOR_ABD, FADIGA, PERD_OLF, \n",
    "PERD_PALA, OUTRO_SIN, OUTRO_DES, VACINA, DOSE_2REF, CLASSI_FIN, CLASSI_OUT.\n",
    "\n",
    "Primeiro, temos a data dos primeiros sintomas (DT_SIN_PRI) e a semana de\n",
    "primeiros sintomas (SEM_PRI) em conjunto com a semana da notificação (SEM_NOT). \n",
    "Tais colunas foram selecionadas por certos agentes infecciosos possuirem \n",
    "sazonalidade, como é o caso do vírus influenza. As variáveis de idade \n",
    "(NU_IDADE_N), estado (SG_UF), estrangeiro (ESTRANG) e zona (CS_ZONA) foram \n",
    "selecionadas por serem variáveis demográficas que podem influenciar na \n",
    "probabilidade de infecção. Outra que pode influenciar é se o paciente teve \n",
    "contato com certos animais (OUT_ANIM). As variáveis de sintomas (FEBRE, TOSSE, \n",
    "GARGANTA, DISPNEIA, DESC_RESP, SATURACAO, DIARREIA, VOMITO, DOR_ABD, FADIGA, \n",
    "PERD_OLF, PERD_PALA, OUTRO_SIN, OUTRO_DES) foram selecionadas por serem \n",
    "sintomas comuns de SRAGs. Por último, as variáveis de vacinação (VACINA, \n",
    "DOSE_2REF) foram selecionadas por serem variáveis que revelam se o paciente foi \n",
    "vacinado contra certos agentes infecciosos. \n",
    "\n",
    "As variáveis de classificação (CLASSI_FIN, CLASSI_OUT) foram selecionadas por\n",
    "serem as variáveis que queremos prever. A variável CLASSI_FIN é a classificação\n",
    "final do caso, enquanto CLASSI_OUT é um complemento. Ambas serão unidas em uma\n",
    "única variável, chamada CLASSI, que será a variável alvo do modelo.\n",
    "\n"
   ]
  },
  {
   "cell_type": "code",
   "execution_count": 3,
   "metadata": {},
   "outputs": [],
   "source": [
    "# Criando lista com as colunas selecionadas\n",
    "colunas_selecionadas = [\"DT_SIN_PRI\", \"SEM_PRI\", \"ESTRANG\", \n",
    "\"SEM_NOT\", \"NU_IDADE_N\", \"SG_UF\", \"CS_ZONA\", \"OUT_ANIM\", \"FEBRE\", \"TOSSE\", \n",
    "\"GARGANTA\", \"DISPNEIA\", \"DESC_RESP\", \"SATURACAO\", \"DIARREIA\", \"VOMITO\", \n",
    "\"DOR_ABD\", \"FADIGA\", \"PERD_OLFT\", \"PERD_PALA\", \"OUTRO_SIN\", \"OUTRO_DES\", \n",
    "\"VACINA\", \"VACINA_COV\", \"DOSE_2REF\", \"CLASSI_FIN\", \"CLASSI_OUT\"]"
   ]
  },
  {
   "cell_type": "code",
   "execution_count": 4,
   "metadata": {},
   "outputs": [],
   "source": [
    "# Buscando as colunas selecionadas\n",
    "data = data[colunas_selecionadas]"
   ]
  },
  {
   "cell_type": "code",
   "execution_count": 5,
   "metadata": {},
   "outputs": [
    {
     "data": {
      "text/html": [
       "<div>\n",
       "<style scoped>\n",
       "    .dataframe tbody tr th:only-of-type {\n",
       "        vertical-align: middle;\n",
       "    }\n",
       "\n",
       "    .dataframe tbody tr th {\n",
       "        vertical-align: top;\n",
       "    }\n",
       "\n",
       "    .dataframe thead th {\n",
       "        text-align: right;\n",
       "    }\n",
       "</style>\n",
       "<table border=\"1\" class=\"dataframe\">\n",
       "  <thead>\n",
       "    <tr style=\"text-align: right;\">\n",
       "      <th></th>\n",
       "      <th>DT_SIN_PRI</th>\n",
       "      <th>SEM_PRI</th>\n",
       "      <th>ESTRANG</th>\n",
       "      <th>SEM_NOT</th>\n",
       "      <th>NU_IDADE_N</th>\n",
       "      <th>SG_UF</th>\n",
       "      <th>CS_ZONA</th>\n",
       "      <th>OUT_ANIM</th>\n",
       "      <th>FEBRE</th>\n",
       "      <th>TOSSE</th>\n",
       "      <th>...</th>\n",
       "      <th>FADIGA</th>\n",
       "      <th>PERD_OLFT</th>\n",
       "      <th>PERD_PALA</th>\n",
       "      <th>OUTRO_SIN</th>\n",
       "      <th>OUTRO_DES</th>\n",
       "      <th>VACINA</th>\n",
       "      <th>VACINA_COV</th>\n",
       "      <th>DOSE_2REF</th>\n",
       "      <th>CLASSI_FIN</th>\n",
       "      <th>CLASSI_OUT</th>\n",
       "    </tr>\n",
       "  </thead>\n",
       "  <tbody>\n",
       "    <tr>\n",
       "      <th>0</th>\n",
       "      <td>17/01/2023</td>\n",
       "      <td>3</td>\n",
       "      <td>2.0</td>\n",
       "      <td>3</td>\n",
       "      <td>75</td>\n",
       "      <td>MG</td>\n",
       "      <td>1.0</td>\n",
       "      <td>NaN</td>\n",
       "      <td>1.0</td>\n",
       "      <td>1.0</td>\n",
       "      <td>...</td>\n",
       "      <td>1.0</td>\n",
       "      <td>2.0</td>\n",
       "      <td>2.0</td>\n",
       "      <td>2.0</td>\n",
       "      <td>NaN</td>\n",
       "      <td>1.0</td>\n",
       "      <td>1.0</td>\n",
       "      <td>11/04/2022</td>\n",
       "      <td>4.0</td>\n",
       "      <td>NaN</td>\n",
       "    </tr>\n",
       "    <tr>\n",
       "      <th>1</th>\n",
       "      <td>01/01/2023</td>\n",
       "      <td>1</td>\n",
       "      <td>2.0</td>\n",
       "      <td>1</td>\n",
       "      <td>67</td>\n",
       "      <td>RJ</td>\n",
       "      <td>1.0</td>\n",
       "      <td>NaN</td>\n",
       "      <td>1.0</td>\n",
       "      <td>9.0</td>\n",
       "      <td>...</td>\n",
       "      <td>9.0</td>\n",
       "      <td>9.0</td>\n",
       "      <td>9.0</td>\n",
       "      <td>9.0</td>\n",
       "      <td>NaN</td>\n",
       "      <td>9.0</td>\n",
       "      <td>1.0</td>\n",
       "      <td>10/05/2022</td>\n",
       "      <td>4.0</td>\n",
       "      <td>NaN</td>\n",
       "    </tr>\n",
       "    <tr>\n",
       "      <th>2</th>\n",
       "      <td>05/01/2023</td>\n",
       "      <td>1</td>\n",
       "      <td>NaN</td>\n",
       "      <td>2</td>\n",
       "      <td>72</td>\n",
       "      <td>SP</td>\n",
       "      <td>1.0</td>\n",
       "      <td>NaN</td>\n",
       "      <td>2.0</td>\n",
       "      <td>1.0</td>\n",
       "      <td>...</td>\n",
       "      <td>2.0</td>\n",
       "      <td>2.0</td>\n",
       "      <td>2.0</td>\n",
       "      <td>2.0</td>\n",
       "      <td>NaN</td>\n",
       "      <td>NaN</td>\n",
       "      <td>1.0</td>\n",
       "      <td>19/04/2022</td>\n",
       "      <td>5.0</td>\n",
       "      <td>NaN</td>\n",
       "    </tr>\n",
       "    <tr>\n",
       "      <th>3</th>\n",
       "      <td>18/01/2023</td>\n",
       "      <td>3</td>\n",
       "      <td>2.0</td>\n",
       "      <td>4</td>\n",
       "      <td>46</td>\n",
       "      <td>SP</td>\n",
       "      <td>1.0</td>\n",
       "      <td>NaN</td>\n",
       "      <td>1.0</td>\n",
       "      <td>2.0</td>\n",
       "      <td>...</td>\n",
       "      <td>2.0</td>\n",
       "      <td>2.0</td>\n",
       "      <td>2.0</td>\n",
       "      <td>1.0</td>\n",
       "      <td>FRAQUEZA,MAL ESTAR,MIALGIA</td>\n",
       "      <td>2.0</td>\n",
       "      <td>1.0</td>\n",
       "      <td>NaN</td>\n",
       "      <td>4.0</td>\n",
       "      <td>NaN</td>\n",
       "    </tr>\n",
       "    <tr>\n",
       "      <th>4</th>\n",
       "      <td>03/02/2023</td>\n",
       "      <td>5</td>\n",
       "      <td>2.0</td>\n",
       "      <td>6</td>\n",
       "      <td>71</td>\n",
       "      <td>SP</td>\n",
       "      <td>NaN</td>\n",
       "      <td>NaN</td>\n",
       "      <td>NaN</td>\n",
       "      <td>1.0</td>\n",
       "      <td>...</td>\n",
       "      <td>2.0</td>\n",
       "      <td>2.0</td>\n",
       "      <td>2.0</td>\n",
       "      <td>NaN</td>\n",
       "      <td>NaN</td>\n",
       "      <td>1.0</td>\n",
       "      <td>1.0</td>\n",
       "      <td>25/05/2022</td>\n",
       "      <td>4.0</td>\n",
       "      <td>NaN</td>\n",
       "    </tr>\n",
       "  </tbody>\n",
       "</table>\n",
       "<p>5 rows × 27 columns</p>\n",
       "</div>"
      ],
      "text/plain": [
       "   DT_SIN_PRI  SEM_PRI  ESTRANG  SEM_NOT  NU_IDADE_N SG_UF  CS_ZONA OUT_ANIM  \\\n",
       "0  17/01/2023        3      2.0        3          75    MG      1.0      NaN   \n",
       "1  01/01/2023        1      2.0        1          67    RJ      1.0      NaN   \n",
       "2  05/01/2023        1      NaN        2          72    SP      1.0      NaN   \n",
       "3  18/01/2023        3      2.0        4          46    SP      1.0      NaN   \n",
       "4  03/02/2023        5      2.0        6          71    SP      NaN      NaN   \n",
       "\n",
       "   FEBRE  TOSSE  ...  FADIGA  PERD_OLFT  PERD_PALA  OUTRO_SIN  \\\n",
       "0    1.0    1.0  ...     1.0        2.0        2.0        2.0   \n",
       "1    1.0    9.0  ...     9.0        9.0        9.0        9.0   \n",
       "2    2.0    1.0  ...     2.0        2.0        2.0        2.0   \n",
       "3    1.0    2.0  ...     2.0        2.0        2.0        1.0   \n",
       "4    NaN    1.0  ...     2.0        2.0        2.0        NaN   \n",
       "\n",
       "                    OUTRO_DES  VACINA  VACINA_COV   DOSE_2REF  CLASSI_FIN  \\\n",
       "0                         NaN     1.0         1.0  11/04/2022         4.0   \n",
       "1                         NaN     9.0         1.0  10/05/2022         4.0   \n",
       "2                         NaN     NaN         1.0  19/04/2022         5.0   \n",
       "3  FRAQUEZA,MAL ESTAR,MIALGIA     2.0         1.0         NaN         4.0   \n",
       "4                         NaN     1.0         1.0  25/05/2022         4.0   \n",
       "\n",
       "   CLASSI_OUT  \n",
       "0         NaN  \n",
       "1         NaN  \n",
       "2         NaN  \n",
       "3         NaN  \n",
       "4         NaN  \n",
       "\n",
       "[5 rows x 27 columns]"
      ]
     },
     "execution_count": 5,
     "metadata": {},
     "output_type": "execute_result"
    }
   ],
   "source": [
    "# Verificando os dados\n",
    "data.head()"
   ]
  },
  {
   "cell_type": "code",
   "execution_count": 6,
   "metadata": {},
   "outputs": [
    {
     "data": {
      "text/plain": [
       "(226763, 27)"
      ]
     },
     "execution_count": 6,
     "metadata": {},
     "output_type": "execute_result"
    }
   ],
   "source": [
    "# Verificando as dimensões do dataset\n",
    "data.shape"
   ]
  },
  {
   "cell_type": "markdown",
   "metadata": {},
   "source": [
    "Vamos usar o Pandas Profilling para gerar um report sobre os dados e assim decidir qual caminho seguir."
   ]
  },
  {
   "cell_type": "code",
   "execution_count": 7,
   "metadata": {},
   "outputs": [],
   "source": [
    "## Gerando o report\n",
    "#profile = ProfileReport(data, title=\"Pandas Profiling Report\")\n",
    "#profile.to_file(\"../images/reports/INFLUD23-16-10-2023.html\")"
   ]
  },
  {
   "cell_type": "markdown",
   "metadata": {},
   "source": [
    "Com base no relatório, as seguintes modificações serão feitas:\n",
    "- Selecionar apenas os registros com o agente infeccioso definido;\n",
    "- Alterar o tipo das colunas DT_SIN_PRI e DOSE_2REF para datetime;\n",
    "- Deletar os registros negativos da coluna NU_IDADE_N (Não existe idade negativa);\n",
    "- Por ter 99.7% de missing, a coluna OUT_ANIM será deletada;\n",
    "- Expandir a coluna OUTRO_DES para gerar novas colunas com sintomas;\n",
    "- Unir a coluna CLASSI_OUT com a coluna CLASSI_FIN;\n",
    "- Alterar todos os valores numéricos das colunas para o seu real valor;\n",
    "- Corrigir os valores  e ausentes da coluna CLASSI_FIN;\n",
    "\n",
    "Insights gerais:\n",
    "- 28% dos dados estão ausentes.\n",
    "- 0.4% dos dados são duplicados.\n",
    "- Temos um problema de classificação com multiplos rótulos.\n",
    "\n",
    "Por ter muitos valores únicos e em baixa quantidade, selecionaremos apenas os\n",
    "targets com mais de 100 registros."
   ]
  },
  {
   "cell_type": "markdown",
   "metadata": {},
   "source": [
    "## Aplicando as correções no dataset"
   ]
  },
  {
   "cell_type": "markdown",
   "metadata": {},
   "source": [
    "### Selecionando apenas os registros com o agente infeccioso definido"
   ]
  },
  {
   "cell_type": "code",
   "execution_count": 8,
   "metadata": {},
   "outputs": [],
   "source": [
    "# Selecionando apenas os casos identificados\n",
    "data = data.query(\"CLASSI_FIN != 4.0\")\n",
    "\n",
    "# Dropando os registros com valores nulos no target\n",
    "data = data.dropna(subset=[\"CLASSI_FIN\"])"
   ]
  },
  {
   "cell_type": "markdown",
   "metadata": {},
   "source": [
    "### Alterando o tipo das colunas DT_SIN_PRI e DOSE_2REF para datetime"
   ]
  },
  {
   "cell_type": "code",
   "execution_count": 9,
   "metadata": {},
   "outputs": [],
   "source": [
    "# Alterando o tipo dos dados\n",
    "data[\"DT_SIN_PRI\"] = pd.to_datetime(data[\"DT_SIN_PRI\"], format=\"%d/%m/%Y\")\n",
    "data[\"DOSE_2REF\"] = pd.to_datetime(data[\"DOSE_2REF\"], format=\"%d/%m/%Y\")"
   ]
  },
  {
   "cell_type": "markdown",
   "metadata": {},
   "source": [
    "### Deletar os registros negativos da coluna NU_IDADE_N (Não existe idade negativa)"
   ]
  },
  {
   "cell_type": "code",
   "execution_count": 10,
   "metadata": {},
   "outputs": [],
   "source": [
    "# Buscando apenas os registros com idade maior ou igual a zero\n",
    "data = data.query(\"NU_IDADE_N >= 0\")"
   ]
  },
  {
   "cell_type": "markdown",
   "metadata": {},
   "source": [
    "### Por ter 99.7% de missing, a coluna OUT_ANIM será deletada"
   ]
  },
  {
   "cell_type": "code",
   "execution_count": 11,
   "metadata": {},
   "outputs": [],
   "source": [
    "# Dropando a coluna\n",
    "data = data.drop(\"OUT_ANIM\", axis = 1)"
   ]
  },
  {
   "cell_type": "markdown",
   "metadata": {},
   "source": [
    "### Expandir a coluna OUTRO_DES para gerar novas colunas com sintomas\n",
    "\n",
    "RESULTADO: Esta abordagem não surtiu muito efeito, a sequência permanecerá \n",
    "comentada para não afetar o modelo."
   ]
  },
  {
   "cell_type": "code",
   "execution_count": 12,
   "metadata": {},
   "outputs": [],
   "source": [
    "data = data.drop(\"OUTRO_DES\", axis = 1)"
   ]
  },
  {
   "cell_type": "code",
   "execution_count": 13,
   "metadata": {},
   "outputs": [],
   "source": [
    "## Criando uma bag com os sintomas\n",
    "#lista_sintomas_inicial = []\n",
    "#\n",
    "## Obtendo apenas os sintomas sem espaço no nome\n",
    "#for sintomas in data[\"OUTRO_DES\"].dropna():\n",
    "#    if sintomas.find(\" \") == -1:\n",
    "#        lista_sintomas_inicial.append(sintomas)\n",
    "#    else:\n",
    "#        continue\n",
    "#\n",
    "## Obtendo os sintomas sem caracteres especiais no nome\n",
    "#lista_sintomas_final = []\n",
    "#for sintomas in lista_sintomas_inicial:\n",
    "#    if re.search(\"[^a-zA-Z0-9]\", sintomas) == None:\n",
    "#        lista_sintomas_final.append(sintomas)\n",
    "#    else:\n",
    "#        continue\n",
    "#\n",
    "## Obter os sintomas únicos\n",
    "#lista_sintomas_final = list(set(lista_sintomas_final))"
   ]
  },
  {
   "cell_type": "code",
   "execution_count": 14,
   "metadata": {},
   "outputs": [],
   "source": [
    "## Criando um dicionário com listas vazia\n",
    "#dict_sintomas = {sintoma:lista for sintoma, lista in zip(lista_sintomas_final, [[] for i in range(len(lista_sintomas_final))])}\n",
    "#\n",
    "## Verificando se a string do sintoma contém algum dos sintomas\n",
    "#for sintomas in data[\"OUTRO_DES\"]:\n",
    "#    if sintomas is np.nan:\n",
    "#        for key, value in dict_sintomas.items():\n",
    "#            value.append(0)\n",
    "#    \n",
    "#    else:\n",
    "#        for sintoma in lista_sintomas_final:\n",
    "#            if sintomas.__contains__(sintoma):\n",
    "#                dict_sintomas[sintoma].append(1)\n",
    "#            else:\n",
    "#                dict_sintomas[sintoma].append(0)\n",
    "#                \n",
    "## Criando um dataframe com os sintomas\n",
    "#data_sintomas_extra = pd.DataFrame(dict_sintomas)"
   ]
  },
  {
   "cell_type": "code",
   "execution_count": 15,
   "metadata": {},
   "outputs": [],
   "source": [
    "## Buscando as colunas com baixa variância\n",
    "#drop_constant = DropConstantFeatures(tol=0.998)\n",
    "#drop_constant.fit(data_sintomas_extra)\n",
    "#features_to_maintain = [column for column in data_sintomas_extra.columns if column not in drop_constant.features_to_drop_]"
   ]
  },
  {
   "cell_type": "code",
   "execution_count": 16,
   "metadata": {},
   "outputs": [],
   "source": [
    "## Dropando as colunas com baixa variância\n",
    "#data_sintomas_extra = data_sintomas_extra[features_to_maintain]"
   ]
  },
  {
   "cell_type": "code",
   "execution_count": 17,
   "metadata": {},
   "outputs": [],
   "source": [
    "## Dropando a coluna\n",
    "#data = data.drop(\"OUTRO_DES\", axis = 1)\n",
    "#\n",
    "## Concatenando os dataframes\n",
    "#data = pd.concat([data, data_sintomas_extra], axis = 1)"
   ]
  },
  {
   "cell_type": "markdown",
   "metadata": {},
   "source": [
    "### Unir a coluna CLASSI_OUT com a coluna CLASSI_FIN"
   ]
  },
  {
   "cell_type": "code",
   "execution_count": 18,
   "metadata": {},
   "outputs": [],
   "source": [
    "# Alterando os valores numéricos para os nomes das categorias\n",
    "dict_novas_cat = {1.0:\"Influenza\",\n",
    "                  2.0:\"Outro vírus\",\n",
    "                  3.0:3.0,\n",
    "                  5.0:\"Covid-19\"}\n",
    "\n",
    "# Aplicando a mudança\n",
    "data[\"CLASSI_FIN\"] = data[\"CLASSI_FIN\"].map(dict_novas_cat)\n",
    "\n",
    "# Buscando as classes complementares\n",
    "data.loc[data[\"CLASSI_FIN\"] == 3, \"CLASSI_FIN\"] = data.loc[data[\"CLASSI_FIN\"] == 3, \"CLASSI_OUT\"]\n",
    "\n",
    "# Dropando a coluna CLASSI_OUT\n",
    "data = data.drop(\"CLASSI_OUT\", axis = 1)"
   ]
  },
  {
   "cell_type": "markdown",
   "metadata": {},
   "source": [
    "### Alterar todos os valores numéricos das colunas para o seu real valor;"
   ]
  },
  {
   "cell_type": "code",
   "execution_count": 19,
   "metadata": {},
   "outputs": [],
   "source": [
    "# Criando as funções\n",
    "func_estrangeiro = lambda num: \"Sim\" if num == 1 else \"Não\"\n",
    "func_zona = lambda num: \"Urbana\" if num == 1 else (\"Rural\" if num == 2 else (\"Periurbana\" if num == 3 else \"Ignorado\"))\n",
    "func_sintoma_and_vacina = lambda num: \"Sim\" if num == 1 else (\"Não\" if num == 2 else \"Ignorado\")\n",
    "\n",
    "# Aplicando as alterações\n",
    "data[\"ESTRANG\"] = data[\"ESTRANG\"].apply(func_estrangeiro)\n",
    "data[\"CS_ZONA\"] = data[\"CS_ZONA\"].apply(func_zona)\n",
    "\n",
    "# Criando uma lista com os sintomas\n",
    "sintomas = [\"FEBRE\", \"TOSSE\", \"GARGANTA\", \"DISPNEIA\", \"DESC_RESP\", \"SATURACAO\", \n",
    "            \"DIARREIA\", \"VOMITO\", \"DOR_ABD\", \"FADIGA\", \"PERD_OLFT\", \n",
    "            \"PERD_PALA\", \"OUTRO_SIN\"]\n",
    "\n",
    "# Aplicando as alterações\n",
    "for sintoma in sintomas:\n",
    "    data[sintoma] = data[sintoma].apply(func_sintoma_and_vacina)\n",
    "    \n",
    "# Criando uma lista com as vacinas\n",
    "vacinas = [\"VACINA\", \"VACINA_COV\"]\n",
    "for vacina in vacinas:\n",
    "    data[vacina] = data[vacina].apply(func_sintoma_and_vacina)\n"
   ]
  },
  {
   "cell_type": "markdown",
   "metadata": {},
   "source": [
    "### Corrigir os valores  e ausentes da coluna CLASSI_FIN"
   ]
  },
  {
   "cell_type": "code",
   "execution_count": 20,
   "metadata": {},
   "outputs": [],
   "source": [
    "# Deletando os targets ausentes\n",
    "data = data.dropna(subset=[\"CLASSI_FIN\"])"
   ]
  },
  {
   "cell_type": "code",
   "execution_count": 21,
   "metadata": {},
   "outputs": [],
   "source": [
    "outros = [\"pneumonia\", \"PNEUMONIA COMUNITARIA\", \n",
    "          \"broncopnm em paciente com enfi\", \"klebsiella pneumonie\", \n",
    "          \"PNEUMONITE BRONCOASPIRATIVA\", \"PNEUMONITE DEVIDA A ALIMENTO\",\n",
    "          \"DPOC , PNM BRONCOASPIRATIVA\", \"SINDROME GRIPAL, BRONQUIOPNEUM\",\n",
    "          \"PNM BACTERIANA GRAN NEGAT\", \"PNM - IRA\", \"PNM INTRAHOSPITALAR\",\n",
    "          \"PNM , IRPA\", \"PNEMUMONIA\", \"PNEUMOCYSTIS JIROVECII\", \n",
    "          \"PN BACTERIANA\", \"PNM FUNGICA\", \"PNM NOSOCOMIAL AVC\", \"PMEUMONIA\",\n",
    "          \"PNEUMONIO COMUNITARIA\", \"PNM BACTERIANA BRONCOASPIRATIV\", \n",
    "          \"PNEUMINA\", \"PNEUMONIA BACTERIANA\", \"PNEUMONIA - DPOC\",\n",
    "          \"PNEUMONIA BACTERIA\", \"PNEUMONIA NAO ESPECIFICADA J18\",\n",
    "          \"CID J18, PNEUMONIA\", \"BRONCOESPASMO/PNEUMONIA\", \n",
    "          \"MYCOPLASMA PNEUMONIAE\", \"STREPTOCOCCUS PNEUMOIAL\", \n",
    "          \"PNM INTRA HOSPITALASR\", \"PNEUMONIA CID J18, BRONQUIOLIT\",\n",
    "          \"SRAG - PNEUMOCISTOSE\", \"PNEUMONIA POR STAPHYLO AUREUS\", \n",
    "          \"SEPSES PULMONAR, PNEUMONIA ,\", \"PNEUMONIA, CA\", \n",
    "          \"PNEUMONIA, ASMA\", \"PNEUMONIA BACTERIANA NAO ESPEC\", \n",
    "          \"CID= J18 PNEUMONIA\", \"PNEMOCISTOSE.PNEUMONIA POR CMV\", \n",
    "          \"PNEUMON IA\", \"IRA - PNEUMONIA\", \"IRA - PNEUMONIA\",\n",
    "          \"PNEUMONIA - BRONCOESPASMO\", \"PNM VIRAL/ COINF. BACTERIANA\", \n",
    "          \"IRA,PNM\", \"PNEUMONIA\", \"STREPTOCOCCUS PNEUMONIAE\", \"PNM\",\n",
    "          \"PNEUMONIA VIRAL\", \"PNM BACTERIANA\", \"PNEUMONIA NAO ESPECIFICADA\",\n",
    "          \"Outro vírus\", \"HIV\", \"DENGUE\", \"TUBERCULOSE\", \n",
    "          \"MYCOBACTERIUM TUBERCULOSIS\", \"MICROBACTERIA TUBERCULOSE\", \n",
    "          \"TEBERCULOSE\", \"MYCOBACTERIUM TUBERCULOSIS,\", \n",
    "          \"TUBERCULOSE (M. TUBERCULOSIS)\", \n",
    "          \"TUBERCULOSE POSITIVO BAAR\", \"MYCOBACTERIUM TUBERCULOSIS\", \"TB\",\n",
    "          \"TUBERCULOSE PULMONAR\", \"VIRUS SINCICIAL RESPIRATORIO]\", \n",
    "          \"VIRUS SINCIAL RESPIRATORIO\", \"VIRUS SINCICIAL RESPIRATORIO\", \n",
    "          \"VIRUS SINCICIAL\"]\n",
    "\n",
    "covids = [\"Covid-19\", \"CORNOVIRUS OC43\", \"CORONAVIRUS NL63\", \"\"]\n",
    "\n",
    "influenzas = [\"Influenza\", \"H1N1\", \"HAEMOFILOS INFLUENZA\", \"H INFLUENZAE\"]\n",
    "\n",
    "# Criando funções para agrupar agentes semelhantes\n",
    "func_agrupar_covid = lambda doenca: \"Covid-19\" if doenca in covids else doenca\n",
    "func_agrupar_influenza = lambda doenca: \"Influenza\" if doenca in influenzas else doenca\n",
    "func_agrupar_outros = lambda doenca: \"Outro vírus\" if doenca in outros else doenca\n",
    "\n",
    "# Aplicando as funções\n",
    "data[\"CLASSI_FIN\"] = data[\"CLASSI_FIN\"].apply(func_agrupar_covid)\n",
    "data[\"CLASSI_FIN\"] = data[\"CLASSI_FIN\"].apply(func_agrupar_influenza)\n",
    "data[\"CLASSI_FIN\"] = data[\"CLASSI_FIN\"].apply(func_agrupar_outros)\n",
    "\n",
    "# Capturando apenas os registros com doenças conhecidas\n",
    "data = data.query(f\"CLASSI_FIN in {['Covid-19', 'Influenza', 'Outro vírus']}\")\n",
    "\n",
    "# Mapeia o target para numérico\n",
    "dict_target = {\"Covid-19\":0, \"Influenza\":1, \"Outro vírus\":2}\n",
    "data[\"CLASSI_FIN\"] = data[\"CLASSI_FIN\"].map(dict_target)"
   ]
  },
  {
   "cell_type": "markdown",
   "metadata": {},
   "source": [
    "## Engenharia de Features\n",
    "\n",
    "Aqui, irei criar as seguintes features:\n",
    "- Tempo decorrido entre os primeiros sintomas e a notificação;\n",
    "- Tempo decorrido entre a vacinação da gripe e os primeiros sintomas;\n",
    "- Diferença entre a data dos primeiros sintomas e a data de reforço para covid;\n",
    "- Verificar de qual região é o estado do paciente;\n",
    "- Se ele apresenta multiplos sintomas;\n",
    "- Mês do primeiro sintoma e da vacina;\n",
    "- Se os sintomas apareceram na primeira ou segunda quinzena do mês;\n",
    "- Se a vacina foi na primeira ou segunda quinzena do mês;\n",
    "\n"
   ]
  },
  {
   "cell_type": "code",
   "execution_count": 22,
   "metadata": {},
   "outputs": [],
   "source": [
    "# Calculando a diferença entre as semanas epidemiológicas\n",
    "data[\"diferenca_semana_epi\"] = data[\"SEM_NOT\"] - data[\"SEM_PRI\"]"
   ]
  },
  {
   "cell_type": "code",
   "execution_count": 23,
   "metadata": {},
   "outputs": [],
   "source": [
    "\n",
    "# Calculando a diferença de dias entre a data de vacinação da covid e a data de sintomas\n",
    "data['DIFERENCA_DIAS_REF_COVID'] = (data['DT_SIN_PRI'] - data['DOSE_2REF']).dt.days"
   ]
  },
  {
   "cell_type": "code",
   "execution_count": 24,
   "metadata": {},
   "outputs": [
    {
     "data": {
      "text/html": [
       "<div>\n",
       "<style scoped>\n",
       "    .dataframe tbody tr th:only-of-type {\n",
       "        vertical-align: middle;\n",
       "    }\n",
       "\n",
       "    .dataframe tbody tr th {\n",
       "        vertical-align: top;\n",
       "    }\n",
       "\n",
       "    .dataframe thead th {\n",
       "        text-align: right;\n",
       "    }\n",
       "</style>\n",
       "<table border=\"1\" class=\"dataframe\">\n",
       "  <thead>\n",
       "    <tr style=\"text-align: right;\">\n",
       "      <th></th>\n",
       "      <th>DT_SIN_PRI</th>\n",
       "      <th>SEM_PRI</th>\n",
       "      <th>ESTRANG</th>\n",
       "      <th>SEM_NOT</th>\n",
       "      <th>NU_IDADE_N</th>\n",
       "      <th>SG_UF</th>\n",
       "      <th>CS_ZONA</th>\n",
       "      <th>FEBRE</th>\n",
       "      <th>TOSSE</th>\n",
       "      <th>GARGANTA</th>\n",
       "      <th>...</th>\n",
       "      <th>FADIGA</th>\n",
       "      <th>PERD_OLFT</th>\n",
       "      <th>PERD_PALA</th>\n",
       "      <th>OUTRO_SIN</th>\n",
       "      <th>VACINA</th>\n",
       "      <th>VACINA_COV</th>\n",
       "      <th>DOSE_2REF</th>\n",
       "      <th>CLASSI_FIN</th>\n",
       "      <th>diferenca_semana_epi</th>\n",
       "      <th>DIFERENCA_DIAS_REF_COVID</th>\n",
       "    </tr>\n",
       "  </thead>\n",
       "  <tbody>\n",
       "    <tr>\n",
       "      <th>2</th>\n",
       "      <td>2023-01-05</td>\n",
       "      <td>1</td>\n",
       "      <td>Não</td>\n",
       "      <td>2</td>\n",
       "      <td>72</td>\n",
       "      <td>SP</td>\n",
       "      <td>Urbana</td>\n",
       "      <td>Não</td>\n",
       "      <td>Sim</td>\n",
       "      <td>Não</td>\n",
       "      <td>...</td>\n",
       "      <td>Não</td>\n",
       "      <td>Não</td>\n",
       "      <td>Não</td>\n",
       "      <td>Não</td>\n",
       "      <td>Ignorado</td>\n",
       "      <td>Sim</td>\n",
       "      <td>2022-04-19</td>\n",
       "      <td>0</td>\n",
       "      <td>1</td>\n",
       "      <td>261.0</td>\n",
       "    </tr>\n",
       "    <tr>\n",
       "      <th>7</th>\n",
       "      <td>2023-02-22</td>\n",
       "      <td>8</td>\n",
       "      <td>Não</td>\n",
       "      <td>8</td>\n",
       "      <td>4</td>\n",
       "      <td>PR</td>\n",
       "      <td>Ignorado</td>\n",
       "      <td>Ignorado</td>\n",
       "      <td>Sim</td>\n",
       "      <td>Ignorado</td>\n",
       "      <td>...</td>\n",
       "      <td>Ignorado</td>\n",
       "      <td>Ignorado</td>\n",
       "      <td>Ignorado</td>\n",
       "      <td>Sim</td>\n",
       "      <td>Ignorado</td>\n",
       "      <td>Não</td>\n",
       "      <td>NaT</td>\n",
       "      <td>2</td>\n",
       "      <td>0</td>\n",
       "      <td>NaN</td>\n",
       "    </tr>\n",
       "    <tr>\n",
       "      <th>11</th>\n",
       "      <td>2023-02-13</td>\n",
       "      <td>7</td>\n",
       "      <td>Não</td>\n",
       "      <td>7</td>\n",
       "      <td>3</td>\n",
       "      <td>PR</td>\n",
       "      <td>Urbana</td>\n",
       "      <td>Não</td>\n",
       "      <td>Sim</td>\n",
       "      <td>Não</td>\n",
       "      <td>...</td>\n",
       "      <td>Não</td>\n",
       "      <td>Não</td>\n",
       "      <td>Não</td>\n",
       "      <td>Não</td>\n",
       "      <td>Ignorado</td>\n",
       "      <td>Não</td>\n",
       "      <td>NaT</td>\n",
       "      <td>2</td>\n",
       "      <td>0</td>\n",
       "      <td>NaN</td>\n",
       "    </tr>\n",
       "    <tr>\n",
       "      <th>16</th>\n",
       "      <td>2023-02-08</td>\n",
       "      <td>6</td>\n",
       "      <td>Não</td>\n",
       "      <td>7</td>\n",
       "      <td>89</td>\n",
       "      <td>SP</td>\n",
       "      <td>Urbana</td>\n",
       "      <td>Sim</td>\n",
       "      <td>Sim</td>\n",
       "      <td>Não</td>\n",
       "      <td>...</td>\n",
       "      <td>Não</td>\n",
       "      <td>Não</td>\n",
       "      <td>Não</td>\n",
       "      <td>Não</td>\n",
       "      <td>Ignorado</td>\n",
       "      <td>Sim</td>\n",
       "      <td>2022-04-02</td>\n",
       "      <td>0</td>\n",
       "      <td>1</td>\n",
       "      <td>312.0</td>\n",
       "    </tr>\n",
       "    <tr>\n",
       "      <th>18</th>\n",
       "      <td>2023-03-12</td>\n",
       "      <td>11</td>\n",
       "      <td>Não</td>\n",
       "      <td>11</td>\n",
       "      <td>5</td>\n",
       "      <td>DF</td>\n",
       "      <td>Urbana</td>\n",
       "      <td>Sim</td>\n",
       "      <td>Sim</td>\n",
       "      <td>Não</td>\n",
       "      <td>...</td>\n",
       "      <td>Não</td>\n",
       "      <td>Não</td>\n",
       "      <td>Não</td>\n",
       "      <td>Não</td>\n",
       "      <td>Ignorado</td>\n",
       "      <td>Não</td>\n",
       "      <td>NaT</td>\n",
       "      <td>2</td>\n",
       "      <td>0</td>\n",
       "      <td>NaN</td>\n",
       "    </tr>\n",
       "  </tbody>\n",
       "</table>\n",
       "<p>5 rows × 26 columns</p>\n",
       "</div>"
      ],
      "text/plain": [
       "   DT_SIN_PRI  SEM_PRI ESTRANG  SEM_NOT  NU_IDADE_N SG_UF   CS_ZONA     FEBRE  \\\n",
       "2  2023-01-05        1     Não        2          72    SP    Urbana       Não   \n",
       "7  2023-02-22        8     Não        8           4    PR  Ignorado  Ignorado   \n",
       "11 2023-02-13        7     Não        7           3    PR    Urbana       Não   \n",
       "16 2023-02-08        6     Não        7          89    SP    Urbana       Sim   \n",
       "18 2023-03-12       11     Não       11           5    DF    Urbana       Sim   \n",
       "\n",
       "   TOSSE  GARGANTA  ...    FADIGA PERD_OLFT PERD_PALA OUTRO_SIN    VACINA  \\\n",
       "2    Sim       Não  ...       Não       Não       Não       Não  Ignorado   \n",
       "7    Sim  Ignorado  ...  Ignorado  Ignorado  Ignorado       Sim  Ignorado   \n",
       "11   Sim       Não  ...       Não       Não       Não       Não  Ignorado   \n",
       "16   Sim       Não  ...       Não       Não       Não       Não  Ignorado   \n",
       "18   Sim       Não  ...       Não       Não       Não       Não  Ignorado   \n",
       "\n",
       "   VACINA_COV  DOSE_2REF CLASSI_FIN diferenca_semana_epi  \\\n",
       "2         Sim 2022-04-19          0                    1   \n",
       "7         Não        NaT          2                    0   \n",
       "11        Não        NaT          2                    0   \n",
       "16        Sim 2022-04-02          0                    1   \n",
       "18        Não        NaT          2                    0   \n",
       "\n",
       "   DIFERENCA_DIAS_REF_COVID  \n",
       "2                     261.0  \n",
       "7                       NaN  \n",
       "11                      NaN  \n",
       "16                    312.0  \n",
       "18                      NaN  \n",
       "\n",
       "[5 rows x 26 columns]"
      ]
     },
     "execution_count": 24,
     "metadata": {},
     "output_type": "execute_result"
    }
   ],
   "source": [
    "data.head()"
   ]
  },
  {
   "cell_type": "code",
   "execution_count": 25,
   "metadata": {},
   "outputs": [],
   "source": [
    "# Criando uma lista com as UF de cada região\n",
    "regiao_sul = [\"PR\", \"SC\", \"RS\"]\n",
    "regiao_sudeste = [\"SP\", \"RJ\", \"MG\", \"ES\"]\n",
    "regiao_centro_oeste = [\"MS\", \"MT\", \"GO\", \"DF\"]\n",
    "regiao_norte = [\"RO\", \"AC\", \"AM\", \"RR\", \"PA\", \"AP\", \"TO\"]\n",
    "\n",
    "# Criando uma função para identificar a região\n",
    "func_regiao = lambda uf: \"Sul\" if uf in regiao_sul else(\"Sudeste\" if uf in regiao_sudeste else(\"Centro-Oeste\" if uf in regiao_centro_oeste else(\"Norte\" if uf in regiao_norte else \"Nordeste\")))\n",
    "data[\"REGIAO\"] = data[\"SG_UF\"].apply(func_regiao)"
   ]
  },
  {
   "cell_type": "code",
   "execution_count": 26,
   "metadata": {},
   "outputs": [],
   "source": [
    "# Contando a quantidade de sintomas que o paciente apresentou\n",
    "data[\"MAIS_DE_UM_SINTOMA\"] = data[sintomas].apply(lambda x: x.str.contains(\"Sim\").sum(), axis=1)"
   ]
  },
  {
   "cell_type": "code",
   "execution_count": 27,
   "metadata": {},
   "outputs": [],
   "source": [
    "# Coletando o mês\n",
    "data[\"MES_SIN\"] = data[\"DT_SIN_PRI\"].dt.month\n",
    "data[\"MES_VAC\"] = data[\"DOSE_2REF\"].dt.month"
   ]
  },
  {
   "cell_type": "code",
   "execution_count": 28,
   "metadata": {},
   "outputs": [],
   "source": [
    "# Verificando se o dia dos sintomas foi na primeira ou segunda quinzena do mês\n",
    "data[\"QUINZENA_SIN\"] = data[\"DT_SIN_PRI\"].apply(lambda x: \"Primeira\" if x.day <= 15 else \"Segunda\")\n",
    "data[\"QUINZENA_VAC\"] = data[\"DOSE_2REF\"].apply(lambda x: \"Primeira\" if x.day <= 15 else \"Segunda\")"
   ]
  },
  {
   "cell_type": "code",
   "execution_count": 29,
   "metadata": {},
   "outputs": [],
   "source": [
    "# Dropando as colunas de data\n",
    "data = data.drop([\"DT_SIN_PRI\", \"DOSE_2REF\"], axis = 1)"
   ]
  },
  {
   "cell_type": "markdown",
   "metadata": {},
   "source": [
    "## Realizando experimentos"
   ]
  },
  {
   "cell_type": "code",
   "execution_count": 30,
   "metadata": {},
   "outputs": [],
   "source": [
    "# Define o local para salvar os exoerimentos\n",
    "mlflow.set_tracking_uri('../mlruns')\n",
    "\n",
    "## Criando/acessando o experimento\n",
    "#mlflow.set_experiment('Comparando modelos')"
   ]
  },
  {
   "cell_type": "code",
   "execution_count": 31,
   "metadata": {},
   "outputs": [],
   "source": [
    "# Dividindo os dados em variáveis dependentes e independentes\n",
    "x = data.drop(columns='CLASSI_FIN')\n",
    "y = data['CLASSI_FIN']\n",
    "\n",
    "# Dividindo os dados em treino e teste\n",
    "x_treino, x_teste, y_treino, y_teste = train_test_split(x,\n",
    "                                                        y,\n",
    "                                                        test_size=0.30,\n",
    "                                                        random_state=200)\n",
    "\n",
    "# Dividindo os dados em teste e calibração\n",
    "x_teste, x_calib, y_teste, y_calib = train_test_split(x_teste,\n",
    "                                                      y_teste,\n",
    "                                                      test_size=0.35,\n",
    "                                                      random_state=200)\n",
    "\n",
    "# Dividindo os dados em dev e teste\n",
    "x_dev, x_teste, y_dev, y_teste = train_test_split(x_teste,\n",
    "                                                  y_teste,\n",
    "                                                  test_size=0.50,\n",
    "                                                  random_state=200)\n"
   ]
  },
  {
   "cell_type": "code",
   "execution_count": 32,
   "metadata": {},
   "outputs": [],
   "source": [
    "# Obtendo as colunas categóricas\n",
    "cat_cols = x.select_dtypes(include='object').columns.tolist()\n",
    "\n",
    "# Obtendo as colunas numéricas\n",
    "num_cols = x.select_dtypes(['int', 'float']).columns.tolist()\n",
    "\n",
    "# Instanciando um KFold Estratificado\n",
    "kf = StratifiedKFold(n_splits=5, shuffle=True, random_state=200) "
   ]
  },
  {
   "cell_type": "code",
   "execution_count": 33,
   "metadata": {},
   "outputs": [],
   "source": [
    "# Criando dicionário com os modelos\n",
    "dict_models_scale_sensitive = {\"LR\": LogisticRegression(random_state=200,\n",
    "                                                        class_weight='balanced',\n",
    "                                                        multi_class='auto')}\n",
    "\n",
    "dict_models_tree_based = {\"LGBM\": LGBMClassifier(is_unbalance=True,\n",
    "                                                 objective= 'multiclass',\n",
    "                                                 random_state=200),\n",
    "                          \"XGB\": XGBClassifier(random_state=200,\n",
    "                                               objective='multi:softprob'),\n",
    "                          \"RF\": RandomForestClassifier(class_weight='balanced',\n",
    "                                                       random_state=200)}\n",
    "\n",
    "# Criando dicionário com os encoders\n",
    "dict_encoders = {\"OHE\": OneHotEncoder(drop='first'),\n",
    "                 \"TE\": ce.TargetEncoder(),\n",
    "                 \"BE\": ce.BinaryEncoder(),\n",
    "                 \"ME\": ce.MEstimateEncoder(),\n",
    "                 \"CE\": ce.CatBoostEncoder(),\n",
    "                 \"GE\":ce.GrayEncoder()}\n",
    "\n",
    "dict_imputers_num = {\"SIAVG\": SimpleImputer(strategy='mean'),\n",
    "                     \"SIMEDIAN\": SimpleImputer(strategy='median')}\n",
    "\n",
    "dict_scalers = {\"SS\": StandardScaler()}\n",
    "\n",
    "# Criando dicionário com os transformers\n",
    "dict_transformers = {\"PT\": PowerTransformer(),\n",
    "                     \"PF\": PolynomialFeatures()}"
   ]
  },
  {
   "cell_type": "code",
   "execution_count": 34,
   "metadata": {},
   "outputs": [],
   "source": [
    "## Iniciando os experimentos sem transformers\n",
    "#for tag, model in dict_models_scale_sensitive.items():\n",
    "#    for tag_imputer, imputer in dict_imputers_num.items():\n",
    "#        for tag_encoder, encoder in dict_encoders.items():\n",
    "#            for tag_scaler, scaler in dict_scalers.items():\n",
    "#                \n",
    "#                # Gerando a tag de identificação do modelo\n",
    "#                nome_modelo = f'{tag}_{tag_imputer}_{tag_encoder}_{tag_scaler}'\n",
    "#                \n",
    "#                with mlflow.start_run(run_name=nome_modelo):\n",
    "#                    \n",
    "#                    # Criando os pipeline com os transformers\n",
    "#                    pipe_cat = Pipeline([(\"imputer_cat\", SimpleImputer(strategy='most_frequent')),\n",
    "#                                         ('encoder', encoder)])\n",
    "#                    \n",
    "#                    pipe_num = Pipeline([('imputer_num', imputer),\n",
    "#                                         ('scaler', scaler)])\n",
    "#                    \n",
    "#                    # Criando o transformador\n",
    "#                    transformer = ColumnTransformer([('cat', pipe_cat, cat_cols),\n",
    "#                                                    ('num', pipe_num, num_cols)])\n",
    "#                    \n",
    "#                    # Criando o pipeline final\n",
    "#                    pipe = Pipeline([('transformer', transformer),\n",
    "#                                    ('model', model)])\n",
    "#                    \n",
    "#                    # Executando o cross validation\n",
    "#                    cross_val_scores = cross_val_score(pipe, x_treino, y_treino, cv=kf, scoring='neg_log_loss')\n",
    "#                    \n",
    "#                    # Calculando a média das métricas\n",
    "#                    mean_score = cross_val_scores.mean()           \n",
    "#                    \n",
    "#                    # Salvando a métrica da folder 1\n",
    "#                    mlflow.log_metric('log_loss_fold_1', cross_val_scores[0])\n",
    "#                    \n",
    "#                    # Salvando a métrica da folder 2\n",
    "#                    mlflow.log_metric('log_loss_fold_2', cross_val_scores[1])\n",
    "#                    \n",
    "#                    # Salvando a métrica da folder 3\n",
    "#                    mlflow.log_metric('log_loss_fold_3', cross_val_scores[2])\n",
    "#                    \n",
    "#                    # Salvando a métrica da folder 4\n",
    "#                    mlflow.log_metric('log_loss_fold_4', cross_val_scores[3])\n",
    "#                    \n",
    "#                    # Salvando a métrica da folder 5\n",
    "#                    mlflow.log_metric('log_loss_fold_5', cross_val_scores[4])\n",
    "#                    \n",
    "#                    # Salvando as métricas\n",
    "#                    mlflow.log_metric('log_loss_mean', mean_score)"
   ]
  },
  {
   "cell_type": "code",
   "execution_count": 35,
   "metadata": {},
   "outputs": [],
   "source": [
    "## Iniciando os experimentos com transformers\n",
    "#for tag, model in dict_models_scale_sensitive.items():\n",
    "#    for tag_imputer, imputer in dict_imputers_num.items():\n",
    "#        for tag_encoder, encoder in dict_encoders.items():\n",
    "#            for tag_scaler, scaler in dict_scalers.items():\n",
    "#                for tag_transformer, transformer in dict_transformers.items():\n",
    "#                \n",
    "#                    # Gerando a tag de identificação do modelo\n",
    "#                    nome_modelo = f'{tag}_{tag_imputer}_{tag_encoder}_{tag_scaler}_{tag_transformer}'\n",
    "#\n",
    "#                    with mlflow.start_run(run_name=nome_modelo):\n",
    "#                        \n",
    "#                        # Criando os pipeline com os transformers\n",
    "#                        pipe_cat = Pipeline([(\"imputer_cat\", SimpleImputer(strategy='most_frequent')),\n",
    "#                                             ('encoder', encoder)])\n",
    "#                    \n",
    "#                        pipe_num = Pipeline([('imputer_num', imputer),\n",
    "#                                             ('scaler', scaler),\n",
    "#                                             ('transformer', transformer)])\n",
    "#\n",
    "#                        # Criando o transformador\n",
    "#                        transformer = ColumnTransformer([('cat', pipe_cat, cat_cols),\n",
    "#                                                        ('num', pipe_num, num_cols)])\n",
    "#\n",
    "#                        # Criando o pipeline final\n",
    "#                        pipe = Pipeline([('transformer', transformer),\n",
    "#                                        ('model', model)])\n",
    "#\n",
    "#                        # Executando o cross validation\n",
    "#                        cross_val_scores = cross_val_score(pipe, x_treino, y_treino, cv=kf, scoring='neg_log_loss')\n",
    "#\n",
    "#                        # Calculando a média das métricas\n",
    "#                        mean_score = cross_val_scores.mean()         \n",
    "#\n",
    "#                        # Salvando a métrica da folder 1\n",
    "#                        mlflow.log_metric('log_loss_fold_1', cross_val_scores[0])\n",
    "#\n",
    "#                        # Salvando a métrica da folder 2\n",
    "#                        mlflow.log_metric('log_loss_fold_2', cross_val_scores[1])\n",
    "#\n",
    "#                        # Salvando a métrica da folder 3\n",
    "#                        mlflow.log_metric('log_loss_fold_3', cross_val_scores[2])\n",
    "#\n",
    "#                        # Salvando a métrica da folder 4\n",
    "#                        mlflow.log_metric('log_loss_fold_4', cross_val_scores[3])\n",
    "#\n",
    "#                        # Salvando a métrica da folder 5\n",
    "#                        mlflow.log_metric('log_loss_fold_5', cross_val_scores[4])\n",
    "#\n",
    "#                        # Salvando as métricas\n",
    "#                        mlflow.log_metric('log_loss_mean', mean_score)"
   ]
  },
  {
   "cell_type": "code",
   "execution_count": 36,
   "metadata": {},
   "outputs": [],
   "source": [
    "## Iniciando os experimentos sem transformers\n",
    "#for tag, model in dict_models_tree_based.items():\n",
    "#    for tag_imputer, imputer in dict_imputers_num.items():\n",
    "#        for tag_encoder, encoder in dict_encoders.items():\n",
    "#\n",
    "#                # Gerando a tag de identificação do modelo\n",
    "#                nome_modelo = f'{tag}_{tag_imputer}_{tag_encoder}'\n",
    "#\n",
    "#                with mlflow.start_run(run_name=nome_modelo):\n",
    "#\n",
    "#                     # Criando os pipeline com os transformers\n",
    "#                     pipe_cat = Pipeline([('imputer_cat', SimpleImputer(strategy='most_frequent')),\n",
    "#                                          ('encoder', encoder)])\n",
    "#                     pipe_num = Pipeline([('imputer_num', imputer)])\n",
    "#\n",
    "#                     # Criando o transformador\n",
    "#                     transformer = ColumnTransformer([('cat', pipe_cat, cat_cols),\n",
    "#                                                      ('num', pipe_num, num_cols)])\n",
    "#\n",
    "#                     # Criando o pipeline final\n",
    "#                     pipe = Pipeline([('transformer', transformer),\n",
    "#                                     ('model', model)])\n",
    "#\n",
    "#                     # Executando o cross validation\n",
    "#                     cross_val_scores = cross_val_score(pipe, x_treino, y_treino, cv=kf, scoring='neg_log_loss')\n",
    "#\n",
    "#                     # Calculando a média das métricas\n",
    "#                     mean_score = cross_val_scores.mean()         \n",
    "#\n",
    "#                     # Salvando a métrica da folder 1\n",
    "#                     mlflow.log_metric('log_loss_fold_1', cross_val_scores[0])\n",
    "#\n",
    "#                     # Salvando a métrica da folder 2\n",
    "#                     mlflow.log_metric('log_loss_fold_2', cross_val_scores[1])\n",
    "#\n",
    "#                     # Salvando a métrica da folder 3\n",
    "#                     mlflow.log_metric('log_loss_fold_3', cross_val_scores[2])\n",
    "#\n",
    "#                     # Salvando a métrica da folder 4\n",
    "#                     mlflow.log_metric('log_loss_fold_4', cross_val_scores[3])\n",
    "#\n",
    "#                     # Salvando a métrica da folder 5\n",
    "#                     mlflow.log_metric('log_loss_fold_5', cross_val_scores[4])\n",
    "#\n",
    "#                     # Salvando as métricas\n",
    "#                     mlflow.log_metric('log_loss_mean', mean_score)"
   ]
  },
  {
   "cell_type": "code",
   "execution_count": 37,
   "metadata": {},
   "outputs": [],
   "source": [
    "## Busca a tabela com os resultados\n",
    "#resultados = mlflow.search_runs()\n",
    "#\n",
    "## calculando o tempo de treinamento em segundos\n",
    "#resultados['train_time_em_segundos'] = (resultados['end_time'] - resultados['start_time']).dt.seconds\n",
    "#\n",
    "## Buscando as colunas para retornar\n",
    "#colunas_para_retornar = ['tags.mlflow.runName', 'train_time_em_segundos', \n",
    "#                         'metrics.log_loss_fold_1', 'metrics.log_loss_fold_2', \n",
    "#                         'metrics.log_loss_fold_5', 'metrics.log_loss_fold_3', \n",
    "#                         'metrics.log_loss_fold_4', 'metrics.log_loss_mean']\n",
    "## Retornando os resultados ordenados pela média\n",
    "#resultados.loc[:, colunas_para_retornar].sort_values(by='metrics.log_loss_mean', ascending=False)"
   ]
  },
  {
   "cell_type": "markdown",
   "metadata": {},
   "source": [
    "E o nosso modelo campeão foi o **XGBoost** com uma média de **0.55** de \n",
    "<i>log loss</i>. O modelo foi acompanhado com os seguintes transformers:\n",
    "**OneHotEncoder** e **SimpleImputer** usando a **mediana**. Foi \n",
    "possível observar que todas as folds possuem um resultado muito próximo, o que \n",
    "indica que o modelo não está sofrendo de overfitting."
   ]
  },
  {
   "cell_type": "markdown",
   "metadata": {},
   "source": [
    "## Tunando o modelo vencedor"
   ]
  },
  {
   "cell_type": "code",
   "execution_count": 38,
   "metadata": {},
   "outputs": [],
   "source": [
    "## Criando função para tunar o modelo\n",
    "#def objective(trial):\n",
    "#\n",
    "#    params = {\n",
    "#            'objective':'multi:softprob',\n",
    "#            'eval_metric': 'logloss',\n",
    "#            'max_depth': trial.suggest_int('max_depth', 3, 10),\n",
    "#            'min_child_weight': trial.suggest_int('min_child_weight', 1, 10),\n",
    "#            'subsample': trial.suggest_float('subsample', 0.5, 1),\n",
    "#            'colsample_bytree': trial.suggest_float('colsample_bytree', 0.5, 1),\n",
    "#            'gamma': trial.suggest_float('gamma', 0, 1),\n",
    "#            'learning_rate': trial.suggest_float('learning_rate', 0.01, 0.1)\n",
    "#        }\n",
    "#    \n",
    "#    # Criando os pipelines com os transformers\n",
    "#    pipe_cat = Pipeline([('imputer_cat', SimpleImputer(strategy='most_frequent')),\n",
    "#                        ('encoder', OneHotEncoder(drop='first'))])\n",
    "#    \n",
    "#    pipe_num = Pipeline([('imputer_num', SimpleImputer(strategy='mean'))])\n",
    "#\n",
    "#    # Criando o transformador\n",
    "#    transformer = ColumnTransformer([('cat', pipe_cat, cat_cols),\n",
    "#                                     ('num', pipe_num, num_cols)])\n",
    "#\n",
    "#    # Criando o pipeline final\n",
    "#    pipe = Pipeline([('transformer', transformer),\n",
    "#                    ('rf', XGBClassifier(**params))])\n",
    "#\n",
    "#    # Treinando o modelo com os dados de treino\n",
    "#    pipe.fit(x_treino, y_treino)\n",
    "#   \n",
    "#    # Calculando a loss com os dados de desenvolvimento\n",
    "#    logloss = log_loss(y_dev, pipe.predict_proba(x_dev))\n",
    "#    \n",
    "#    return logloss\n",
    "#\n",
    "## Criando o estudo de otimização\n",
    "#study = optuna.create_study(direction = 'minimize')\n",
    "#study.optimize(objective, n_trials = 20)"
   ]
  },
  {
   "cell_type": "code",
   "execution_count": 39,
   "metadata": {},
   "outputs": [],
   "source": [
    "## Buscando os melhores parâmetros\n",
    "#study.best_params"
   ]
  },
  {
   "cell_type": "markdown",
   "metadata": {},
   "source": [
    "Aparentemente não houve uma melhora significativa no modelo. Devido a isso, iremos\n",
    "seguir com o modelo original."
   ]
  },
  {
   "cell_type": "code",
   "execution_count": 40,
   "metadata": {},
   "outputs": [
    {
     "data": {
      "text/html": [
       "<style>#sk-container-id-1 {color: black;}#sk-container-id-1 pre{padding: 0;}#sk-container-id-1 div.sk-toggleable {background-color: white;}#sk-container-id-1 label.sk-toggleable__label {cursor: pointer;display: block;width: 100%;margin-bottom: 0;padding: 0.3em;box-sizing: border-box;text-align: center;}#sk-container-id-1 label.sk-toggleable__label-arrow:before {content: \"▸\";float: left;margin-right: 0.25em;color: #696969;}#sk-container-id-1 label.sk-toggleable__label-arrow:hover:before {color: black;}#sk-container-id-1 div.sk-estimator:hover label.sk-toggleable__label-arrow:before {color: black;}#sk-container-id-1 div.sk-toggleable__content {max-height: 0;max-width: 0;overflow: hidden;text-align: left;background-color: #f0f8ff;}#sk-container-id-1 div.sk-toggleable__content pre {margin: 0.2em;color: black;border-radius: 0.25em;background-color: #f0f8ff;}#sk-container-id-1 input.sk-toggleable__control:checked~div.sk-toggleable__content {max-height: 200px;max-width: 100%;overflow: auto;}#sk-container-id-1 input.sk-toggleable__control:checked~label.sk-toggleable__label-arrow:before {content: \"▾\";}#sk-container-id-1 div.sk-estimator input.sk-toggleable__control:checked~label.sk-toggleable__label {background-color: #d4ebff;}#sk-container-id-1 div.sk-label input.sk-toggleable__control:checked~label.sk-toggleable__label {background-color: #d4ebff;}#sk-container-id-1 input.sk-hidden--visually {border: 0;clip: rect(1px 1px 1px 1px);clip: rect(1px, 1px, 1px, 1px);height: 1px;margin: -1px;overflow: hidden;padding: 0;position: absolute;width: 1px;}#sk-container-id-1 div.sk-estimator {font-family: monospace;background-color: #f0f8ff;border: 1px dotted black;border-radius: 0.25em;box-sizing: border-box;margin-bottom: 0.5em;}#sk-container-id-1 div.sk-estimator:hover {background-color: #d4ebff;}#sk-container-id-1 div.sk-parallel-item::after {content: \"\";width: 100%;border-bottom: 1px solid gray;flex-grow: 1;}#sk-container-id-1 div.sk-label:hover label.sk-toggleable__label {background-color: #d4ebff;}#sk-container-id-1 div.sk-serial::before {content: \"\";position: absolute;border-left: 1px solid gray;box-sizing: border-box;top: 0;bottom: 0;left: 50%;z-index: 0;}#sk-container-id-1 div.sk-serial {display: flex;flex-direction: column;align-items: center;background-color: white;padding-right: 0.2em;padding-left: 0.2em;position: relative;}#sk-container-id-1 div.sk-item {position: relative;z-index: 1;}#sk-container-id-1 div.sk-parallel {display: flex;align-items: stretch;justify-content: center;background-color: white;position: relative;}#sk-container-id-1 div.sk-item::before, #sk-container-id-1 div.sk-parallel-item::before {content: \"\";position: absolute;border-left: 1px solid gray;box-sizing: border-box;top: 0;bottom: 0;left: 50%;z-index: -1;}#sk-container-id-1 div.sk-parallel-item {display: flex;flex-direction: column;z-index: 1;position: relative;background-color: white;}#sk-container-id-1 div.sk-parallel-item:first-child::after {align-self: flex-end;width: 50%;}#sk-container-id-1 div.sk-parallel-item:last-child::after {align-self: flex-start;width: 50%;}#sk-container-id-1 div.sk-parallel-item:only-child::after {width: 0;}#sk-container-id-1 div.sk-dashed-wrapped {border: 1px dashed gray;margin: 0 0.4em 0.5em 0.4em;box-sizing: border-box;padding-bottom: 0.4em;background-color: white;}#sk-container-id-1 div.sk-label label {font-family: monospace;font-weight: bold;display: inline-block;line-height: 1.2em;}#sk-container-id-1 div.sk-label-container {text-align: center;}#sk-container-id-1 div.sk-container {/* jupyter's `normalize.less` sets `[hidden] { display: none; }` but bootstrap.min.css set `[hidden] { display: none !important; }` so we also need the `!important` here to be able to override the default hidden behavior on the sphinx rendered scikit-learn.org. See: https://github.com/scikit-learn/scikit-learn/issues/21755 */display: inline-block !important;position: relative;}#sk-container-id-1 div.sk-text-repr-fallback {display: none;}</style><div id=\"sk-container-id-1\" class=\"sk-top-container\"><div class=\"sk-text-repr-fallback\"><pre>Pipeline(steps=[(&#x27;transformer&#x27;,\n",
       "                 ColumnTransformer(transformers=[(&#x27;cat&#x27;,\n",
       "                                                  Pipeline(steps=[(&#x27;imputer_cat&#x27;,\n",
       "                                                                   SimpleImputer(strategy=&#x27;most_frequent&#x27;)),\n",
       "                                                                  (&#x27;encoder&#x27;,\n",
       "                                                                   OneHotEncoder(drop=&#x27;first&#x27;))]),\n",
       "                                                  [&#x27;ESTRANG&#x27;, &#x27;SG_UF&#x27;,\n",
       "                                                   &#x27;CS_ZONA&#x27;, &#x27;FEBRE&#x27;, &#x27;TOSSE&#x27;,\n",
       "                                                   &#x27;GARGANTA&#x27;, &#x27;DISPNEIA&#x27;,\n",
       "                                                   &#x27;DESC_RESP&#x27;, &#x27;SATURACAO&#x27;,\n",
       "                                                   &#x27;DIARREIA&#x27;, &#x27;VOMITO&#x27;,\n",
       "                                                   &#x27;DOR_ABD&#x27;, &#x27;FADIGA&#x27;,\n",
       "                                                   &#x27;PERD_OLFT&#x27;, &#x27;PERD_PALA&#x27;,\n",
       "                                                   &#x27;OUTRO_SIN&#x27;,...\n",
       "                               feature_types=None, gamma=None, grow_policy=None,\n",
       "                               importance_type=None,\n",
       "                               interaction_constraints=None, learning_rate=None,\n",
       "                               max_bin=None, max_cat_threshold=None,\n",
       "                               max_cat_to_onehot=None, max_delta_step=None,\n",
       "                               max_depth=None, max_leaves=None,\n",
       "                               min_child_weight=None, missing=nan,\n",
       "                               monotone_constraints=None, multi_strategy=None,\n",
       "                               n_estimators=None, n_jobs=None,\n",
       "                               num_parallel_tree=None,\n",
       "                               objective=&#x27;multi:softprob&#x27;, ...))])</pre><b>In a Jupyter environment, please rerun this cell to show the HTML representation or trust the notebook. <br />On GitHub, the HTML representation is unable to render, please try loading this page with nbviewer.org.</b></div><div class=\"sk-container\" hidden><div class=\"sk-item sk-dashed-wrapped\"><div class=\"sk-label-container\"><div class=\"sk-label sk-toggleable\"><input class=\"sk-toggleable__control sk-hidden--visually\" id=\"sk-estimator-id-1\" type=\"checkbox\" ><label for=\"sk-estimator-id-1\" class=\"sk-toggleable__label sk-toggleable__label-arrow\">Pipeline</label><div class=\"sk-toggleable__content\"><pre>Pipeline(steps=[(&#x27;transformer&#x27;,\n",
       "                 ColumnTransformer(transformers=[(&#x27;cat&#x27;,\n",
       "                                                  Pipeline(steps=[(&#x27;imputer_cat&#x27;,\n",
       "                                                                   SimpleImputer(strategy=&#x27;most_frequent&#x27;)),\n",
       "                                                                  (&#x27;encoder&#x27;,\n",
       "                                                                   OneHotEncoder(drop=&#x27;first&#x27;))]),\n",
       "                                                  [&#x27;ESTRANG&#x27;, &#x27;SG_UF&#x27;,\n",
       "                                                   &#x27;CS_ZONA&#x27;, &#x27;FEBRE&#x27;, &#x27;TOSSE&#x27;,\n",
       "                                                   &#x27;GARGANTA&#x27;, &#x27;DISPNEIA&#x27;,\n",
       "                                                   &#x27;DESC_RESP&#x27;, &#x27;SATURACAO&#x27;,\n",
       "                                                   &#x27;DIARREIA&#x27;, &#x27;VOMITO&#x27;,\n",
       "                                                   &#x27;DOR_ABD&#x27;, &#x27;FADIGA&#x27;,\n",
       "                                                   &#x27;PERD_OLFT&#x27;, &#x27;PERD_PALA&#x27;,\n",
       "                                                   &#x27;OUTRO_SIN&#x27;,...\n",
       "                               feature_types=None, gamma=None, grow_policy=None,\n",
       "                               importance_type=None,\n",
       "                               interaction_constraints=None, learning_rate=None,\n",
       "                               max_bin=None, max_cat_threshold=None,\n",
       "                               max_cat_to_onehot=None, max_delta_step=None,\n",
       "                               max_depth=None, max_leaves=None,\n",
       "                               min_child_weight=None, missing=nan,\n",
       "                               monotone_constraints=None, multi_strategy=None,\n",
       "                               n_estimators=None, n_jobs=None,\n",
       "                               num_parallel_tree=None,\n",
       "                               objective=&#x27;multi:softprob&#x27;, ...))])</pre></div></div></div><div class=\"sk-serial\"><div class=\"sk-item sk-dashed-wrapped\"><div class=\"sk-label-container\"><div class=\"sk-label sk-toggleable\"><input class=\"sk-toggleable__control sk-hidden--visually\" id=\"sk-estimator-id-2\" type=\"checkbox\" ><label for=\"sk-estimator-id-2\" class=\"sk-toggleable__label sk-toggleable__label-arrow\">transformer: ColumnTransformer</label><div class=\"sk-toggleable__content\"><pre>ColumnTransformer(transformers=[(&#x27;cat&#x27;,\n",
       "                                 Pipeline(steps=[(&#x27;imputer_cat&#x27;,\n",
       "                                                  SimpleImputer(strategy=&#x27;most_frequent&#x27;)),\n",
       "                                                 (&#x27;encoder&#x27;,\n",
       "                                                  OneHotEncoder(drop=&#x27;first&#x27;))]),\n",
       "                                 [&#x27;ESTRANG&#x27;, &#x27;SG_UF&#x27;, &#x27;CS_ZONA&#x27;, &#x27;FEBRE&#x27;,\n",
       "                                  &#x27;TOSSE&#x27;, &#x27;GARGANTA&#x27;, &#x27;DISPNEIA&#x27;, &#x27;DESC_RESP&#x27;,\n",
       "                                  &#x27;SATURACAO&#x27;, &#x27;DIARREIA&#x27;, &#x27;VOMITO&#x27;, &#x27;DOR_ABD&#x27;,\n",
       "                                  &#x27;FADIGA&#x27;, &#x27;PERD_OLFT&#x27;, &#x27;PERD_PALA&#x27;,\n",
       "                                  &#x27;OUTRO_SIN&#x27;, &#x27;VACINA&#x27;, &#x27;VACINA_COV&#x27;, &#x27;REGIAO&#x27;,\n",
       "                                  &#x27;QUINZENA_SIN&#x27;, &#x27;QUINZENA_VAC&#x27;]),\n",
       "                                (&#x27;num&#x27;,\n",
       "                                 Pipeline(steps=[(&#x27;imputer_num&#x27;,\n",
       "                                                  SimpleImputer(strategy=&#x27;median&#x27;))]),\n",
       "                                 [&#x27;SEM_PRI&#x27;, &#x27;SEM_NOT&#x27;, &#x27;NU_IDADE_N&#x27;,\n",
       "                                  &#x27;diferenca_semana_epi&#x27;,\n",
       "                                  &#x27;DIFERENCA_DIAS_REF_COVID&#x27;,\n",
       "                                  &#x27;MAIS_DE_UM_SINTOMA&#x27;, &#x27;MES_SIN&#x27;,\n",
       "                                  &#x27;MES_VAC&#x27;])])</pre></div></div></div><div class=\"sk-parallel\"><div class=\"sk-parallel-item\"><div class=\"sk-item\"><div class=\"sk-label-container\"><div class=\"sk-label sk-toggleable\"><input class=\"sk-toggleable__control sk-hidden--visually\" id=\"sk-estimator-id-3\" type=\"checkbox\" ><label for=\"sk-estimator-id-3\" class=\"sk-toggleable__label sk-toggleable__label-arrow\">cat</label><div class=\"sk-toggleable__content\"><pre>[&#x27;ESTRANG&#x27;, &#x27;SG_UF&#x27;, &#x27;CS_ZONA&#x27;, &#x27;FEBRE&#x27;, &#x27;TOSSE&#x27;, &#x27;GARGANTA&#x27;, &#x27;DISPNEIA&#x27;, &#x27;DESC_RESP&#x27;, &#x27;SATURACAO&#x27;, &#x27;DIARREIA&#x27;, &#x27;VOMITO&#x27;, &#x27;DOR_ABD&#x27;, &#x27;FADIGA&#x27;, &#x27;PERD_OLFT&#x27;, &#x27;PERD_PALA&#x27;, &#x27;OUTRO_SIN&#x27;, &#x27;VACINA&#x27;, &#x27;VACINA_COV&#x27;, &#x27;REGIAO&#x27;, &#x27;QUINZENA_SIN&#x27;, &#x27;QUINZENA_VAC&#x27;]</pre></div></div></div><div class=\"sk-serial\"><div class=\"sk-item\"><div class=\"sk-serial\"><div class=\"sk-item\"><div class=\"sk-estimator sk-toggleable\"><input class=\"sk-toggleable__control sk-hidden--visually\" id=\"sk-estimator-id-4\" type=\"checkbox\" ><label for=\"sk-estimator-id-4\" class=\"sk-toggleable__label sk-toggleable__label-arrow\">SimpleImputer</label><div class=\"sk-toggleable__content\"><pre>SimpleImputer(strategy=&#x27;most_frequent&#x27;)</pre></div></div></div><div class=\"sk-item\"><div class=\"sk-estimator sk-toggleable\"><input class=\"sk-toggleable__control sk-hidden--visually\" id=\"sk-estimator-id-5\" type=\"checkbox\" ><label for=\"sk-estimator-id-5\" class=\"sk-toggleable__label sk-toggleable__label-arrow\">OneHotEncoder</label><div class=\"sk-toggleable__content\"><pre>OneHotEncoder(drop=&#x27;first&#x27;)</pre></div></div></div></div></div></div></div></div><div class=\"sk-parallel-item\"><div class=\"sk-item\"><div class=\"sk-label-container\"><div class=\"sk-label sk-toggleable\"><input class=\"sk-toggleable__control sk-hidden--visually\" id=\"sk-estimator-id-6\" type=\"checkbox\" ><label for=\"sk-estimator-id-6\" class=\"sk-toggleable__label sk-toggleable__label-arrow\">num</label><div class=\"sk-toggleable__content\"><pre>[&#x27;SEM_PRI&#x27;, &#x27;SEM_NOT&#x27;, &#x27;NU_IDADE_N&#x27;, &#x27;diferenca_semana_epi&#x27;, &#x27;DIFERENCA_DIAS_REF_COVID&#x27;, &#x27;MAIS_DE_UM_SINTOMA&#x27;, &#x27;MES_SIN&#x27;, &#x27;MES_VAC&#x27;]</pre></div></div></div><div class=\"sk-serial\"><div class=\"sk-item\"><div class=\"sk-serial\"><div class=\"sk-item\"><div class=\"sk-estimator sk-toggleable\"><input class=\"sk-toggleable__control sk-hidden--visually\" id=\"sk-estimator-id-7\" type=\"checkbox\" ><label for=\"sk-estimator-id-7\" class=\"sk-toggleable__label sk-toggleable__label-arrow\">SimpleImputer</label><div class=\"sk-toggleable__content\"><pre>SimpleImputer(strategy=&#x27;median&#x27;)</pre></div></div></div></div></div></div></div></div></div></div><div class=\"sk-item\"><div class=\"sk-estimator sk-toggleable\"><input class=\"sk-toggleable__control sk-hidden--visually\" id=\"sk-estimator-id-8\" type=\"checkbox\" ><label for=\"sk-estimator-id-8\" class=\"sk-toggleable__label sk-toggleable__label-arrow\">XGBClassifier</label><div class=\"sk-toggleable__content\"><pre>XGBClassifier(base_score=None, booster=None, callbacks=None,\n",
       "              colsample_bylevel=None, colsample_bynode=None,\n",
       "              colsample_bytree=None, device=None, early_stopping_rounds=None,\n",
       "              enable_categorical=False, eval_metric=None, feature_types=None,\n",
       "              gamma=None, grow_policy=None, importance_type=None,\n",
       "              interaction_constraints=None, learning_rate=None, max_bin=None,\n",
       "              max_cat_threshold=None, max_cat_to_onehot=None,\n",
       "              max_delta_step=None, max_depth=None, max_leaves=None,\n",
       "              min_child_weight=None, missing=nan, monotone_constraints=None,\n",
       "              multi_strategy=None, n_estimators=None, n_jobs=None,\n",
       "              num_parallel_tree=None, objective=&#x27;multi:softprob&#x27;, ...)</pre></div></div></div></div></div></div></div>"
      ],
      "text/plain": [
       "Pipeline(steps=[('transformer',\n",
       "                 ColumnTransformer(transformers=[('cat',\n",
       "                                                  Pipeline(steps=[('imputer_cat',\n",
       "                                                                   SimpleImputer(strategy='most_frequent')),\n",
       "                                                                  ('encoder',\n",
       "                                                                   OneHotEncoder(drop='first'))]),\n",
       "                                                  ['ESTRANG', 'SG_UF',\n",
       "                                                   'CS_ZONA', 'FEBRE', 'TOSSE',\n",
       "                                                   'GARGANTA', 'DISPNEIA',\n",
       "                                                   'DESC_RESP', 'SATURACAO',\n",
       "                                                   'DIARREIA', 'VOMITO',\n",
       "                                                   'DOR_ABD', 'FADIGA',\n",
       "                                                   'PERD_OLFT', 'PERD_PALA',\n",
       "                                                   'OUTRO_SIN',...\n",
       "                               feature_types=None, gamma=None, grow_policy=None,\n",
       "                               importance_type=None,\n",
       "                               interaction_constraints=None, learning_rate=None,\n",
       "                               max_bin=None, max_cat_threshold=None,\n",
       "                               max_cat_to_onehot=None, max_delta_step=None,\n",
       "                               max_depth=None, max_leaves=None,\n",
       "                               min_child_weight=None, missing=nan,\n",
       "                               monotone_constraints=None, multi_strategy=None,\n",
       "                               n_estimators=None, n_jobs=None,\n",
       "                               num_parallel_tree=None,\n",
       "                               objective='multi:softprob', ...))])"
      ]
     },
     "execution_count": 40,
     "metadata": {},
     "output_type": "execute_result"
    }
   ],
   "source": [
    "# Criando o pipeline final\n",
    "pipe_cat = Pipeline([('imputer_cat', SimpleImputer(strategy='most_frequent')),\n",
    "                    ('encoder', OneHotEncoder(drop='first'))])\n",
    "pipe_num = Pipeline([('imputer_num', SimpleImputer(strategy='median'))])\n",
    "\n",
    "# Criando o transformador\n",
    "transformer = ColumnTransformer([('cat', pipe_cat, cat_cols),\n",
    "                                ('num', pipe_num, num_cols)])\n",
    "\n",
    "# Criando o pipeline final\n",
    "pipe = Pipeline([('transformer', transformer),\n",
    "                ('model', XGBClassifier(random_state=200,\n",
    "                                        objective='multi:softprob'))])\n",
    "\n",
    "# Treinando com os dados de treino\n",
    "pipe.fit(x_treino, y_treino)"
   ]
  },
  {
   "cell_type": "code",
   "execution_count": 41,
   "metadata": {},
   "outputs": [
    {
     "name": "stdout",
     "output_type": "stream",
     "text": [
      "Log Loss: 0.554814175853447\n",
      "F1: 0.7752339906872141\n",
      "Precision: 0.7773865854041391\n",
      "Recall: 0.7888184438040345\n"
     ]
    }
   ],
   "source": [
    "# Computando algumas métricas com os dados de teste\n",
    "print(f\"Log Loss: {log_loss(y_teste, pipe.predict_proba(x_teste))}\")\n",
    "print(f\"F1: {f1_score(y_teste, pipe.predict(x_teste), average='weighted')}\")\n",
    "print(f\"Precision: {precision_score(y_teste, pipe.predict(x_teste), average='weighted')}\")\n",
    "print(f\"Recall: {recall_score(y_teste, pipe.predict(x_teste), average='weighted')}\")"
   ]
  },
  {
   "cell_type": "markdown",
   "metadata": {},
   "source": [
    "Das pessoas que o nosso modelo classificou com determinada doença, 77% delas \n",
    "realmente tinham a doença. Já dos que realmente tinham determinada doença, nosso\n",
    "modelo previu corretamente 78% delas."
   ]
  },
  {
   "cell_type": "code",
   "execution_count": 42,
   "metadata": {},
   "outputs": [
    {
     "data": {
      "text/plain": [
       "<sklearn.metrics._plot.confusion_matrix.ConfusionMatrixDisplay at 0x7fd2925e7280>"
      ]
     },
     "execution_count": 42,
     "metadata": {},
     "output_type": "execute_result"
    },
    {
     "data": {
      "image/png": "[encoded data removed]",
      "text/plain": [
       "<Figure size 640x480 with 2 Axes>"
      ]
     },
     "metadata": {},
     "output_type": "display_data"
    }
   ],
   "source": [
    "ConfusionMatrixDisplay(confusion_matrix(y_teste, pipe.predict(x_teste)), display_labels=['Covid-19', 'Influenza', 'Outro vírus']).plot()"
   ]
  },
  {
   "cell_type": "markdown",
   "metadata": {},
   "source": [
    "É necessário melhorar o modelo para detectar melhor a Influenza."
   ]
  },
  {
   "cell_type": "code",
   "execution_count": 64,
   "metadata": {},
   "outputs": [
    {
     "name": "stdout",
     "output_type": "stream",
     "text": [
      "Latência média: 40.20151443371512 milissegundos\n"
     ]
    }
   ],
   "source": [
    "# Criando lista para as latências\n",
    "latency_list = []\n",
    "\n",
    "# Calculando a latência das previsões\n",
    "for _, row in x_teste.iterrows():\n",
    "    \n",
    "    # Início da contagem de tempo\n",
    "    start_time = time.time()\n",
    "\n",
    "    # Extrair os recursos da linha\n",
    "    features = row.values.reshape(1, -1)\n",
    "    \n",
    "    # Fazer a previsão para a linha individual\n",
    "    prediction = pipe.predict_proba(pd.DataFrame(features, columns=x_teste.columns))\n",
    "\n",
    "    # Encerra a contagem\n",
    "    end_time = time.time()\n",
    "    atomic_time = end_time - start_time\n",
    "\n",
    "    # Transforma segundo em milissegundo\n",
    "    atomic_milissec = atomic_time * 1000\n",
    "    \n",
    "    # Adiciona o tempo em uma lista\n",
    "    latency_list.append(atomic_milissec)\n",
    "\n",
    "# calcula a média \n",
    "print(f\"Latência média: {np.mean(latency_list)} milissegundos\")"
   ]
  },
  {
   "cell_type": "markdown",
   "metadata": {},
   "source": [
    "A latência média está boa, considerando que mais tempo será adicionado devido \n",
    "as integrações com o resto dos sistema."
   ]
  },
  {
   "cell_type": "code",
   "execution_count": 46,
   "metadata": {},
   "outputs": [
    {
     "data": {
      "image/png": "[encoded data removed]",
      "text/plain": [
       "<Figure size 1500x500 with 2 Axes>"
      ]
     },
     "metadata": {},
     "output_type": "display_data"
    }
   ],
   "source": [
    "# Realizando predições nos dados de teste\n",
    "y_pred_uncalibrated = pipe.predict_proba(x_teste)\n",
    "y_pred_uncalibrated = np.argmax(y_pred_uncalibrated, axis=1)\n",
    "\n",
    "# Plotando informações sobre a calibração\n",
    "plt.figure(figsize=(15,5))\n",
    "rd = mli.plot_reliability_diagram(y_teste, y_pred_uncalibrated,show_histogram=True)"
   ]
  },
  {
   "cell_type": "code",
   "execution_count": 49,
   "metadata": {},
   "outputs": [
    {
     "name": "stdout",
     "output_type": "stream",
     "text": [
      "Calibrating Class 0\n",
      "Calibrating Class 1\n",
      "Calibrating Class 2\n"
     ]
    }
   ],
   "source": [
    "# Prevendo as probabilidades dos dados de calibração\n",
    "y_calib_probs = pipe.predict_proba(x_calib)\n",
    "\n",
    "# Criando um Cross-Validation\n",
    "cv_train_preds = mli.cv_predictions(pipe, x_treino, y_treino)\n",
    "\n",
    "# INstanciando e treinando o calibrador\n",
    "calib_mc = mli.SplineCalib()\n",
    "calib_mc.fit(cv_train_preds, y_treino, verbose=True)\n",
    "\n",
    "# Calibrando as probabilidades\n",
    "calib_probs_calibrated = calib_mc.calibrate(y_calib_probs)"
   ]
  },
  {
   "cell_type": "code",
   "execution_count": 50,
   "metadata": {},
   "outputs": [
    {
     "name": "stdout",
     "output_type": "stream",
     "text": [
      "Log Loss: 0.5528969131066881\n"
     ]
    }
   ],
   "source": [
    "# Computando algumas métricas com os dados de teste\n",
    "print(f\"Log Loss: {log_loss(y_calib, calib_probs_calibrated)}\")"
   ]
  },
  {
   "cell_type": "code",
   "execution_count": 53,
   "metadata": {},
   "outputs": [
    {
     "data": {
      "image/png": "[encoded data removed]",
      "text/plain": [
       "<Figure size 1500x500 with 2 Axes>"
      ]
     },
     "metadata": {},
     "output_type": "display_data"
    }
   ],
   "source": [
    "# Plotando informações sobre a calibração\n",
    "plt.figure(figsize=(15,5))\n",
    "rd = mli.plot_reliability_diagram(y_calib, np.argmax(calib_probs_calibrated, axis = 1), show_histogram=True)"
   ]
  },
  {
   "cell_type": "markdown",
   "metadata": {},
   "source": [
    "Seguir as predições com esse score pode ser um pouco arriscado."
   ]
  },
  {
   "cell_type": "markdown",
   "metadata": {},
   "source": [
    "# Avaliando os resultados finais"
   ]
  },
  {
   "cell_type": "code",
   "execution_count": 121,
   "metadata": {},
   "outputs": [
    {
     "data": {
      "text/plain": [
       "[]"
      ]
     },
     "execution_count": 121,
     "metadata": {},
     "output_type": "execute_result"
    },
    {
     "data": {
      "text/plain": [
       "<Figure size 1500x500 with 0 Axes>"
      ]
     },
     "metadata": {},
     "output_type": "display_data"
    },
    {
     "data": {
      "image/png": "[encoded data removed]",
      "text/plain": [
       "<Waffle size 640x480 with 1 Axes>"
      ]
     },
     "metadata": {},
     "output_type": "display_data"
    }
   ],
   "source": [
    "# Criando um gráfico de waffle mostrando a porcentagem de precisão\n",
    "precisao = precision_score(y_teste, pipe.predict(x_teste), average='weighted')\n",
    "erro_precisao = 1 - precisao\n",
    "valores = [erro_precisao, precisao]\n",
    "\n",
    "# Criando um gráfico de waffle\n",
    "plt.figure(figsize=(15,5))\n",
    "\n",
    "fig = plt.figure(\n",
    "    FigureClass=Waffle,\n",
    "    rows=2,\n",
    "    columns=5,\n",
    "    values=valores,\n",
    "    icons='child',\n",
    "    icon_size=70,\n",
    "    colors=[\"crimson\", \"#555655\"],\n",
    "\n",
    ")\n",
    "\n",
    "plt.plot()"
   ]
  },
  {
   "cell_type": "code",
   "execution_count": 89,
   "metadata": {},
   "outputs": [
    {
     "data": {
      "text/plain": [
       "[]"
      ]
     },
     "execution_count": 89,
     "metadata": {},
     "output_type": "execute_result"
    },
    {
     "data": {
      "text/plain": [
       "<Figure size 1500x500 with 0 Axes>"
      ]
     },
     "metadata": {},
     "output_type": "display_data"
    },
    {
     "data": {
      "image/png": "[encoded data removed]",
      "text/plain": [
       "<Waffle size 640x480 with 1 Axes>"
      ]
     },
     "metadata": {},
     "output_type": "display_data"
    }
   ],
   "source": [
    "# Criando um gráfico de waffle mostrando a porcentagem de recall\n",
    "recall =  recall_score(y_teste, pipe.predict(x_teste), average='weighted')\n",
    "\n",
    "erro_recall = 1 - recall\n",
    "valores = [erro_recall, recall]\n",
    "\n",
    "# Criando um gráfico de waffle\n",
    "plt.figure(figsize=(15,5))\n",
    "\n",
    "fig = plt.figure(\n",
    "    FigureClass=Waffle,\n",
    "    rows=2,\n",
    "    columns=5,\n",
    "    values=valores,\n",
    "    icons='child',\n",
    "    icon_size=70,\n",
    "    colors=[\"crimson\", \"#555655\"],\n",
    "\n",
    ")\n",
    "\n",
    "plt.plot()"
   ]
  },
  {
   "cell_type": "code",
   "execution_count": 105,
   "metadata": {},
   "outputs": [],
   "source": [
    "# Dividindo a matriz de confusão\n",
    "covid = confusion_matrix(y_teste, pipe.predict(x_teste))[0]\n",
    "influenza = confusion_matrix(y_teste, pipe.predict(x_teste))[1]\n",
    "outro_virus = confusion_matrix(y_teste, pipe.predict(x_teste))[2]\n",
    "                    \n",
    "# Buscando a quantidade de previsões corretas de cada uma\n",
    "covid_correto = covid[0]\n",
    "influenza_correto = influenza[1]\n",
    "outro_virus_correto = outro_virus[2]"
   ]
  },
  {
   "cell_type": "code",
   "execution_count": 110,
   "metadata": {},
   "outputs": [
    {
     "data": {
      "text/plain": [
       "[]"
      ]
     },
     "execution_count": 110,
     "metadata": {},
     "output_type": "execute_result"
    },
    {
     "data": {
      "text/plain": [
       "<Figure size 1500x500 with 0 Axes>"
      ]
     },
     "metadata": {},
     "output_type": "display_data"
    },
    {
     "data": {
      "image/png": "[encoded data removed]",
      "text/plain": [
       "<Waffle size 640x480 with 1 Axes>"
      ]
     },
     "metadata": {},
     "output_type": "display_data"
    }
   ],
   "source": [
    "# Calculando a porcentagem de acerto e erro da covid\n",
    "covid_porcentagem_correta = covid_correto / covid.sum()\n",
    "covid_porcentagem_errada = 1 - covid_porcentagem_correta\n",
    "\n",
    "# adicionando erro e acerto em uma lista\n",
    "valores_covid = [covid_porcentagem_errada, covid_porcentagem_correta]\n",
    "\n",
    "# Criando um gráfico de waffle\n",
    "plt.figure(figsize=(15,5))\n",
    "\n",
    "fig = plt.figure(\n",
    "    FigureClass=Waffle,\n",
    "    rows=2,\n",
    "    columns=5,\n",
    "    values=valores_covid,\n",
    "    icons='child',\n",
    "    icon_size=70,\n",
    "    colors=[\"crimson\", \"#555655\"]\n",
    "\n",
    ")\n",
    "\n",
    "plt.plot()"
   ]
  },
  {
   "cell_type": "code",
   "execution_count": 116,
   "metadata": {},
   "outputs": [
    {
     "data": {
      "text/plain": [
       "[]"
      ]
     },
     "execution_count": 116,
     "metadata": {},
     "output_type": "execute_result"
    },
    {
     "data": {
      "text/plain": [
       "<Figure size 1500x500 with 0 Axes>"
      ]
     },
     "metadata": {},
     "output_type": "display_data"
    },
    {
     "data": {
      "image/png": "[encoded data removed]",
      "text/plain": [
       "<Waffle size 640x480 with 1 Axes>"
      ]
     },
     "metadata": {},
     "output_type": "display_data"
    }
   ],
   "source": [
    "# Calculando a porcentagem de acerto e erro da covid\n",
    "influenza_porcentagem_correta = influenza_correto / influenza.sum()\n",
    "influenza_porcentagem_errada = 1 - influenza_porcentagem_correta\n",
    "\n",
    "# adicionando erro e acerto em uma lista\n",
    "valores_covid = [influenza_porcentagem_errada, influenza_porcentagem_correta]\n",
    "\n",
    "# Criando um gráfico de waffle\n",
    "plt.figure(figsize=(15,5))\n",
    "\n",
    "fig = plt.figure(\n",
    "    FigureClass=Waffle,\n",
    "    rows=2,\n",
    "    columns=5,\n",
    "    values=valores_covid,\n",
    "    icons='child',\n",
    "    icon_size=70,\n",
    "    colors=[\"crimson\", \"#555655\"]\n",
    "\n",
    ")\n",
    "\n",
    "plt.plot()"
   ]
  },
  {
   "cell_type": "code",
   "execution_count": 120,
   "metadata": {},
   "outputs": [
    {
     "data": {
      "text/plain": [
       "[]"
      ]
     },
     "execution_count": 120,
     "metadata": {},
     "output_type": "execute_result"
    },
    {
     "data": {
      "text/plain": [
       "<Figure size 1500x500 with 0 Axes>"
      ]
     },
     "metadata": {},
     "output_type": "display_data"
    },
    {
     "data": {
      "image/png": "[encoded data removed]",
      "text/plain": [
       "<Waffle size 640x480 with 1 Axes>"
      ]
     },
     "metadata": {},
     "output_type": "display_data"
    }
   ],
   "source": [
    "# Calculando a porcentagem de acerto e erro da covid\n",
    "outro_virus_porcentagem_correta = outro_virus_correto / outro_virus.sum()\n",
    "outro_virus_porcentagem_errada = 1 - outro_virus_porcentagem_correta\n",
    "\n",
    "# adicionando erro e acerto em uma lista\n",
    "valores_outro_virus = [outro_virus_porcentagem_errada, outro_virus_porcentagem_correta]\n",
    "\n",
    "# Criando um gráfico de waffle\n",
    "plt.figure(figsize=(15,5))\n",
    "\n",
    "fig = plt.figure(\n",
    "    FigureClass=Waffle,\n",
    "    rows=2,\n",
    "    columns=5,\n",
    "    values=valores_outro_virus,\n",
    "    icons='child',\n",
    "    icon_size=70,\n",
    "    colors=[\"crimson\", \"#555655\"]\n",
    "\n",
    ")\n",
    "\n",
    "plt.plot()"
   ]
  }
 ],
 "metadata": {
  "kernelspec": {
   "display_name": "venv",
   "language": "python",
   "name": "python3"
  },
  "language_info": {
   "codemirror_mode": {
    "name": "ipython",
    "version": 3
   },
   "file_extension": ".py",
   "mimetype": "text/x-python",
   "name": "python",
   "nbconvert_exporter": "python",
   "pygments_lexer": "ipython3",
   "version": "3.10.12"
  }
 },
 "nbformat": 4,
 "nbformat_minor": 2
}
